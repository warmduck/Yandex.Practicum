{
 "cells": [
  {
   "cell_type": "markdown",
   "id": "5939780a",
   "metadata": {},
   "source": [
    "# Вступление"
   ]
  },
  {
   "cell_type": "markdown",
   "id": "a814cdd4",
   "metadata": {},
   "source": [
    "В этом проекте был создае дашборд на основе данных о конференциях TED. "
   ]
  },
  {
   "cell_type": "markdown",
   "id": "e87db7ee",
   "metadata": {},
   "source": [
    "## Цели "
   ]
  },
  {
   "cell_type": "markdown",
   "id": "027f18f4",
   "metadata": {},
   "source": [
    "Исследовать историю TED-конференций с помощью Tableau, найти взаимосвязи в данных, проанализировать и представить графическое представление ключевых моментов и сделать выводы на основании полученных данных. "
   ]
  },
  {
   "cell_type": "markdown",
   "id": "013e6c0f",
   "metadata": {},
   "source": [
    "## Поставленные задачи"
   ]
  },
  {
   "cell_type": "markdown",
   "id": "cd4924a6",
   "metadata": {},
   "source": [
    "1. Построить дашборд «История выступлений»;\n",
    "2. Построить дашборд «Тематики выступлений»;\n",
    "3. Создать дашборд «Авторы выступлений»;\n",
    "4. Создать дашборд на свободную тему:\n",
    "    - «Другие» тематики;\n",
    "    - «Просмотры и мероприятия»;\n",
    "5. Оформление итогов в виде презентации. "
   ]
  },
  {
   "cell_type": "markdown",
   "id": "247333a8",
   "metadata": {},
   "source": [
    "## Ключ к дашбордам"
   ]
  },
  {
   "cell_type": "markdown",
   "id": "501b95ac",
   "metadata": {},
   "source": [
    "### «История выступлений»"
   ]
  },
  {
   "cell_type": "markdown",
   "id": "f0170001",
   "metadata": {},
   "source": [
    "Общее представление о мероприятиях в разрезе времени, топ-5 тематик и стран проводивших конференции."
   ]
  },
  {
   "cell_type": "markdown",
   "id": "6d039166",
   "metadata": {},
   "source": [
    "### «Тематики выступлений»"
   ]
  },
  {
   "cell_type": "markdown",
   "id": "f7347f5b",
   "metadata": {},
   "source": [
    "Распределение тематик освещавшихся на конференциях. Также распределение смеха и аплодисментов по каждой из тематик отдельно."
   ]
  },
  {
   "cell_type": "markdown",
   "id": "9829928f",
   "metadata": {},
   "source": [
    "### «Авторы выступлений»"
   ]
  },
  {
   "cell_type": "markdown",
   "id": "986639ce",
   "metadata": {},
   "source": [
    "Информация об авторах, которые принимают участи в конференциях, области их деятельности и выступлениях."
   ]
  },
  {
   "cell_type": "markdown",
   "id": "c0ccf9d0",
   "metadata": {},
   "source": [
    "### «Другие» тематики"
   ]
  },
  {
   "cell_type": "markdown",
   "id": "d0e700ab",
   "metadata": {},
   "source": [
    "Распределение тематик, которые не попалив топ-5 популярных, их упоминание на конференциях в целом и конкретно в 2019-2021 годах."
   ]
  },
  {
   "cell_type": "markdown",
   "id": "8aeddfc8",
   "metadata": {},
   "source": [
    "### «Просмотры и мероприятия»"
   ]
  },
  {
   "cell_type": "markdown",
   "id": "67fd9b9f",
   "metadata": {},
   "source": [
    "Распределение тематик по странам, в которых проходили конференции, по просмотрам и отдельно по конференциям. "
   ]
  },
  {
   "cell_type": "markdown",
   "id": "24835415",
   "metadata": {},
   "source": [
    "## Ссылка на презентацию"
   ]
  },
  {
   "cell_type": "markdown",
   "id": "f8cecda5",
   "metadata": {},
   "source": [
    "<a href=\"https://public.tableau.com/app/profile/anna.yepinietova/viz/TEDproject/TED2008-2021?publish=yes\">TED project. Епинетова А.</a>"
   ]
  },
  {
   "cell_type": "code",
   "execution_count": null,
   "id": "7c0b8524",
   "metadata": {},
   "outputs": [],
   "source": []
  }
 ],
 "metadata": {
  "kernelspec": {
   "display_name": "Python 3 (ipykernel)",
   "language": "python",
   "name": "python3"
  },
  "language_info": {
   "codemirror_mode": {
    "name": "ipython",
    "version": 3
   },
   "file_extension": ".py",
   "mimetype": "text/x-python",
   "name": "python",
   "nbconvert_exporter": "python",
   "pygments_lexer": "ipython3",
   "version": "3.9.16"
  },
  "toc": {
   "base_numbering": 1,
   "nav_menu": {},
   "number_sections": true,
   "sideBar": true,
   "skip_h1_title": true,
   "title_cell": "Table of Contents",
   "title_sidebar": "Contents",
   "toc_cell": false,
   "toc_position": {},
   "toc_section_display": true,
   "toc_window_display": false
  }
 },
 "nbformat": 4,
 "nbformat_minor": 5
}
