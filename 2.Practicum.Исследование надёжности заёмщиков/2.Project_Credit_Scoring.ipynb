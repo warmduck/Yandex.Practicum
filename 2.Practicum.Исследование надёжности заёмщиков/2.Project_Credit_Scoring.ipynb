{
 "cells": [
  {
   "cell_type": "markdown",
   "id": "386f2ae7",
   "metadata": {
    "deletable": false,
    "editable": false,
    "id": "386f2ae7"
   },
   "source": [
    "# Исследование надежности заемщиков\n"
   ]
  },
  {
   "cell_type": "markdown",
   "id": "ffe86f65",
   "metadata": {
    "deletable": false,
    "editable": false,
    "id": "ffe86f65"
   },
   "source": [
    "Во второй части проекта вы выполните шаги 3 и 4. Их вручную проверит ревьюер.\n",
    "Чтобы вам не пришлось писать код заново для шагов 1 и 2, мы добавили авторские решения в ячейки с кодом. \n",
    "\n"
   ]
  },
  {
   "cell_type": "markdown",
   "id": "26613308",
   "metadata": {
    "deletable": false,
    "editable": false,
    "id": "26613308"
   },
   "source": [
    "## Откройте таблицу и изучите общую информацию о данных"
   ]
  },
  {
   "cell_type": "markdown",
   "id": "3c9f838e",
   "metadata": {
    "deletable": false,
    "editable": false,
    "id": "3c9f838e"
   },
   "source": [
    "**Задание 1. Импортируйте библиотеку pandas. Считайте данные из csv-файла в датафрейм и сохраните в переменную `data`. Путь к файлу:**\n",
    "\n",
    "`/datasets/data.csv`"
   ]
  },
  {
   "cell_type": "code",
   "execution_count": 1,
   "id": "77a68a90",
   "metadata": {
    "deletable": false,
    "id": "77a68a90"
   },
   "outputs": [],
   "source": [
    "import pandas as pd\n",
    "\n",
    "try:\n",
    "    data = pd.read_csv('/datasets/data.csv')\n",
    "except:\n",
    "    data = pd.read_csv('https://code.s3.yandex.net/datasets/data.csv')"
   ]
  },
  {
   "cell_type": "markdown",
   "id": "45365635",
   "metadata": {
    "deletable": false,
    "editable": false,
    "id": "45365635"
   },
   "source": [
    "**Задание 2. Выведите первые 20 строчек датафрейма `data` на экран.**"
   ]
  },
  {
   "cell_type": "code",
   "execution_count": 2,
   "id": "b0451a9a",
   "metadata": {
    "deletable": false,
    "id": "b0451a9a",
    "outputId": "1a8f3ef2-d323-4ec2-ddf7-89670b5944c4"
   },
   "outputs": [
    {
     "data": {
      "text/html": [
       "<div>\n",
       "<style scoped>\n",
       "    .dataframe tbody tr th:only-of-type {\n",
       "        vertical-align: middle;\n",
       "    }\n",
       "\n",
       "    .dataframe tbody tr th {\n",
       "        vertical-align: top;\n",
       "    }\n",
       "\n",
       "    .dataframe thead th {\n",
       "        text-align: right;\n",
       "    }\n",
       "</style>\n",
       "<table border=\"1\" class=\"dataframe\">\n",
       "  <thead>\n",
       "    <tr style=\"text-align: right;\">\n",
       "      <th></th>\n",
       "      <th>children</th>\n",
       "      <th>days_employed</th>\n",
       "      <th>dob_years</th>\n",
       "      <th>education</th>\n",
       "      <th>education_id</th>\n",
       "      <th>family_status</th>\n",
       "      <th>family_status_id</th>\n",
       "      <th>gender</th>\n",
       "      <th>income_type</th>\n",
       "      <th>debt</th>\n",
       "      <th>total_income</th>\n",
       "      <th>purpose</th>\n",
       "    </tr>\n",
       "  </thead>\n",
       "  <tbody>\n",
       "    <tr>\n",
       "      <th>0</th>\n",
       "      <td>1</td>\n",
       "      <td>-8437.673028</td>\n",
       "      <td>42</td>\n",
       "      <td>высшее</td>\n",
       "      <td>0</td>\n",
       "      <td>женат / замужем</td>\n",
       "      <td>0</td>\n",
       "      <td>F</td>\n",
       "      <td>сотрудник</td>\n",
       "      <td>0</td>\n",
       "      <td>253875.639453</td>\n",
       "      <td>покупка жилья</td>\n",
       "    </tr>\n",
       "    <tr>\n",
       "      <th>1</th>\n",
       "      <td>1</td>\n",
       "      <td>-4024.803754</td>\n",
       "      <td>36</td>\n",
       "      <td>среднее</td>\n",
       "      <td>1</td>\n",
       "      <td>женат / замужем</td>\n",
       "      <td>0</td>\n",
       "      <td>F</td>\n",
       "      <td>сотрудник</td>\n",
       "      <td>0</td>\n",
       "      <td>112080.014102</td>\n",
       "      <td>приобретение автомобиля</td>\n",
       "    </tr>\n",
       "    <tr>\n",
       "      <th>2</th>\n",
       "      <td>0</td>\n",
       "      <td>-5623.422610</td>\n",
       "      <td>33</td>\n",
       "      <td>Среднее</td>\n",
       "      <td>1</td>\n",
       "      <td>женат / замужем</td>\n",
       "      <td>0</td>\n",
       "      <td>M</td>\n",
       "      <td>сотрудник</td>\n",
       "      <td>0</td>\n",
       "      <td>145885.952297</td>\n",
       "      <td>покупка жилья</td>\n",
       "    </tr>\n",
       "    <tr>\n",
       "      <th>3</th>\n",
       "      <td>3</td>\n",
       "      <td>-4124.747207</td>\n",
       "      <td>32</td>\n",
       "      <td>среднее</td>\n",
       "      <td>1</td>\n",
       "      <td>женат / замужем</td>\n",
       "      <td>0</td>\n",
       "      <td>M</td>\n",
       "      <td>сотрудник</td>\n",
       "      <td>0</td>\n",
       "      <td>267628.550329</td>\n",
       "      <td>дополнительное образование</td>\n",
       "    </tr>\n",
       "    <tr>\n",
       "      <th>4</th>\n",
       "      <td>0</td>\n",
       "      <td>340266.072047</td>\n",
       "      <td>53</td>\n",
       "      <td>среднее</td>\n",
       "      <td>1</td>\n",
       "      <td>гражданский брак</td>\n",
       "      <td>1</td>\n",
       "      <td>F</td>\n",
       "      <td>пенсионер</td>\n",
       "      <td>0</td>\n",
       "      <td>158616.077870</td>\n",
       "      <td>сыграть свадьбу</td>\n",
       "    </tr>\n",
       "    <tr>\n",
       "      <th>5</th>\n",
       "      <td>0</td>\n",
       "      <td>-926.185831</td>\n",
       "      <td>27</td>\n",
       "      <td>высшее</td>\n",
       "      <td>0</td>\n",
       "      <td>гражданский брак</td>\n",
       "      <td>1</td>\n",
       "      <td>M</td>\n",
       "      <td>компаньон</td>\n",
       "      <td>0</td>\n",
       "      <td>255763.565419</td>\n",
       "      <td>покупка жилья</td>\n",
       "    </tr>\n",
       "    <tr>\n",
       "      <th>6</th>\n",
       "      <td>0</td>\n",
       "      <td>-2879.202052</td>\n",
       "      <td>43</td>\n",
       "      <td>высшее</td>\n",
       "      <td>0</td>\n",
       "      <td>женат / замужем</td>\n",
       "      <td>0</td>\n",
       "      <td>F</td>\n",
       "      <td>компаньон</td>\n",
       "      <td>0</td>\n",
       "      <td>240525.971920</td>\n",
       "      <td>операции с жильем</td>\n",
       "    </tr>\n",
       "    <tr>\n",
       "      <th>7</th>\n",
       "      <td>0</td>\n",
       "      <td>-152.779569</td>\n",
       "      <td>50</td>\n",
       "      <td>СРЕДНЕЕ</td>\n",
       "      <td>1</td>\n",
       "      <td>женат / замужем</td>\n",
       "      <td>0</td>\n",
       "      <td>M</td>\n",
       "      <td>сотрудник</td>\n",
       "      <td>0</td>\n",
       "      <td>135823.934197</td>\n",
       "      <td>образование</td>\n",
       "    </tr>\n",
       "    <tr>\n",
       "      <th>8</th>\n",
       "      <td>2</td>\n",
       "      <td>-6929.865299</td>\n",
       "      <td>35</td>\n",
       "      <td>ВЫСШЕЕ</td>\n",
       "      <td>0</td>\n",
       "      <td>гражданский брак</td>\n",
       "      <td>1</td>\n",
       "      <td>F</td>\n",
       "      <td>сотрудник</td>\n",
       "      <td>0</td>\n",
       "      <td>95856.832424</td>\n",
       "      <td>на проведение свадьбы</td>\n",
       "    </tr>\n",
       "    <tr>\n",
       "      <th>9</th>\n",
       "      <td>0</td>\n",
       "      <td>-2188.756445</td>\n",
       "      <td>41</td>\n",
       "      <td>среднее</td>\n",
       "      <td>1</td>\n",
       "      <td>женат / замужем</td>\n",
       "      <td>0</td>\n",
       "      <td>M</td>\n",
       "      <td>сотрудник</td>\n",
       "      <td>0</td>\n",
       "      <td>144425.938277</td>\n",
       "      <td>покупка жилья для семьи</td>\n",
       "    </tr>\n",
       "    <tr>\n",
       "      <th>10</th>\n",
       "      <td>2</td>\n",
       "      <td>-4171.483647</td>\n",
       "      <td>36</td>\n",
       "      <td>высшее</td>\n",
       "      <td>0</td>\n",
       "      <td>женат / замужем</td>\n",
       "      <td>0</td>\n",
       "      <td>M</td>\n",
       "      <td>компаньон</td>\n",
       "      <td>0</td>\n",
       "      <td>113943.491460</td>\n",
       "      <td>покупка недвижимости</td>\n",
       "    </tr>\n",
       "    <tr>\n",
       "      <th>11</th>\n",
       "      <td>0</td>\n",
       "      <td>-792.701887</td>\n",
       "      <td>40</td>\n",
       "      <td>среднее</td>\n",
       "      <td>1</td>\n",
       "      <td>женат / замужем</td>\n",
       "      <td>0</td>\n",
       "      <td>F</td>\n",
       "      <td>сотрудник</td>\n",
       "      <td>0</td>\n",
       "      <td>77069.234271</td>\n",
       "      <td>покупка коммерческой недвижимости</td>\n",
       "    </tr>\n",
       "    <tr>\n",
       "      <th>12</th>\n",
       "      <td>0</td>\n",
       "      <td>NaN</td>\n",
       "      <td>65</td>\n",
       "      <td>среднее</td>\n",
       "      <td>1</td>\n",
       "      <td>гражданский брак</td>\n",
       "      <td>1</td>\n",
       "      <td>M</td>\n",
       "      <td>пенсионер</td>\n",
       "      <td>0</td>\n",
       "      <td>NaN</td>\n",
       "      <td>сыграть свадьбу</td>\n",
       "    </tr>\n",
       "    <tr>\n",
       "      <th>13</th>\n",
       "      <td>0</td>\n",
       "      <td>-1846.641941</td>\n",
       "      <td>54</td>\n",
       "      <td>неоконченное высшее</td>\n",
       "      <td>2</td>\n",
       "      <td>женат / замужем</td>\n",
       "      <td>0</td>\n",
       "      <td>F</td>\n",
       "      <td>сотрудник</td>\n",
       "      <td>0</td>\n",
       "      <td>130458.228857</td>\n",
       "      <td>приобретение автомобиля</td>\n",
       "    </tr>\n",
       "    <tr>\n",
       "      <th>14</th>\n",
       "      <td>0</td>\n",
       "      <td>-1844.956182</td>\n",
       "      <td>56</td>\n",
       "      <td>высшее</td>\n",
       "      <td>0</td>\n",
       "      <td>гражданский брак</td>\n",
       "      <td>1</td>\n",
       "      <td>F</td>\n",
       "      <td>компаньон</td>\n",
       "      <td>1</td>\n",
       "      <td>165127.911772</td>\n",
       "      <td>покупка жилой недвижимости</td>\n",
       "    </tr>\n",
       "    <tr>\n",
       "      <th>15</th>\n",
       "      <td>1</td>\n",
       "      <td>-972.364419</td>\n",
       "      <td>26</td>\n",
       "      <td>среднее</td>\n",
       "      <td>1</td>\n",
       "      <td>женат / замужем</td>\n",
       "      <td>0</td>\n",
       "      <td>F</td>\n",
       "      <td>сотрудник</td>\n",
       "      <td>0</td>\n",
       "      <td>116820.904450</td>\n",
       "      <td>строительство собственной недвижимости</td>\n",
       "    </tr>\n",
       "    <tr>\n",
       "      <th>16</th>\n",
       "      <td>0</td>\n",
       "      <td>-1719.934226</td>\n",
       "      <td>35</td>\n",
       "      <td>среднее</td>\n",
       "      <td>1</td>\n",
       "      <td>женат / замужем</td>\n",
       "      <td>0</td>\n",
       "      <td>F</td>\n",
       "      <td>сотрудник</td>\n",
       "      <td>0</td>\n",
       "      <td>289202.704229</td>\n",
       "      <td>недвижимость</td>\n",
       "    </tr>\n",
       "    <tr>\n",
       "      <th>17</th>\n",
       "      <td>0</td>\n",
       "      <td>-2369.999720</td>\n",
       "      <td>33</td>\n",
       "      <td>высшее</td>\n",
       "      <td>0</td>\n",
       "      <td>гражданский брак</td>\n",
       "      <td>1</td>\n",
       "      <td>M</td>\n",
       "      <td>сотрудник</td>\n",
       "      <td>0</td>\n",
       "      <td>90410.586745</td>\n",
       "      <td>строительство недвижимости</td>\n",
       "    </tr>\n",
       "    <tr>\n",
       "      <th>18</th>\n",
       "      <td>0</td>\n",
       "      <td>400281.136913</td>\n",
       "      <td>53</td>\n",
       "      <td>среднее</td>\n",
       "      <td>1</td>\n",
       "      <td>вдовец / вдова</td>\n",
       "      <td>2</td>\n",
       "      <td>F</td>\n",
       "      <td>пенсионер</td>\n",
       "      <td>0</td>\n",
       "      <td>56823.777243</td>\n",
       "      <td>на покупку подержанного автомобиля</td>\n",
       "    </tr>\n",
       "    <tr>\n",
       "      <th>19</th>\n",
       "      <td>0</td>\n",
       "      <td>-10038.818549</td>\n",
       "      <td>48</td>\n",
       "      <td>СРЕДНЕЕ</td>\n",
       "      <td>1</td>\n",
       "      <td>в разводе</td>\n",
       "      <td>3</td>\n",
       "      <td>F</td>\n",
       "      <td>сотрудник</td>\n",
       "      <td>0</td>\n",
       "      <td>242831.107982</td>\n",
       "      <td>на покупку своего автомобиля</td>\n",
       "    </tr>\n",
       "  </tbody>\n",
       "</table>\n",
       "</div>"
      ],
      "text/plain": [
       "    children  days_employed  dob_years            education  education_id  \\\n",
       "0          1   -8437.673028         42               высшее             0   \n",
       "1          1   -4024.803754         36              среднее             1   \n",
       "2          0   -5623.422610         33              Среднее             1   \n",
       "3          3   -4124.747207         32              среднее             1   \n",
       "4          0  340266.072047         53              среднее             1   \n",
       "5          0    -926.185831         27               высшее             0   \n",
       "6          0   -2879.202052         43               высшее             0   \n",
       "7          0    -152.779569         50              СРЕДНЕЕ             1   \n",
       "8          2   -6929.865299         35               ВЫСШЕЕ             0   \n",
       "9          0   -2188.756445         41              среднее             1   \n",
       "10         2   -4171.483647         36               высшее             0   \n",
       "11         0    -792.701887         40              среднее             1   \n",
       "12         0            NaN         65              среднее             1   \n",
       "13         0   -1846.641941         54  неоконченное высшее             2   \n",
       "14         0   -1844.956182         56               высшее             0   \n",
       "15         1    -972.364419         26              среднее             1   \n",
       "16         0   -1719.934226         35              среднее             1   \n",
       "17         0   -2369.999720         33               высшее             0   \n",
       "18         0  400281.136913         53              среднее             1   \n",
       "19         0  -10038.818549         48              СРЕДНЕЕ             1   \n",
       "\n",
       "       family_status  family_status_id gender income_type  debt  \\\n",
       "0    женат / замужем                 0      F   сотрудник     0   \n",
       "1    женат / замужем                 0      F   сотрудник     0   \n",
       "2    женат / замужем                 0      M   сотрудник     0   \n",
       "3    женат / замужем                 0      M   сотрудник     0   \n",
       "4   гражданский брак                 1      F   пенсионер     0   \n",
       "5   гражданский брак                 1      M   компаньон     0   \n",
       "6    женат / замужем                 0      F   компаньон     0   \n",
       "7    женат / замужем                 0      M   сотрудник     0   \n",
       "8   гражданский брак                 1      F   сотрудник     0   \n",
       "9    женат / замужем                 0      M   сотрудник     0   \n",
       "10   женат / замужем                 0      M   компаньон     0   \n",
       "11   женат / замужем                 0      F   сотрудник     0   \n",
       "12  гражданский брак                 1      M   пенсионер     0   \n",
       "13   женат / замужем                 0      F   сотрудник     0   \n",
       "14  гражданский брак                 1      F   компаньон     1   \n",
       "15   женат / замужем                 0      F   сотрудник     0   \n",
       "16   женат / замужем                 0      F   сотрудник     0   \n",
       "17  гражданский брак                 1      M   сотрудник     0   \n",
       "18    вдовец / вдова                 2      F   пенсионер     0   \n",
       "19         в разводе                 3      F   сотрудник     0   \n",
       "\n",
       "     total_income                                 purpose  \n",
       "0   253875.639453                           покупка жилья  \n",
       "1   112080.014102                 приобретение автомобиля  \n",
       "2   145885.952297                           покупка жилья  \n",
       "3   267628.550329              дополнительное образование  \n",
       "4   158616.077870                         сыграть свадьбу  \n",
       "5   255763.565419                           покупка жилья  \n",
       "6   240525.971920                       операции с жильем  \n",
       "7   135823.934197                             образование  \n",
       "8    95856.832424                   на проведение свадьбы  \n",
       "9   144425.938277                 покупка жилья для семьи  \n",
       "10  113943.491460                    покупка недвижимости  \n",
       "11   77069.234271       покупка коммерческой недвижимости  \n",
       "12            NaN                         сыграть свадьбу  \n",
       "13  130458.228857                 приобретение автомобиля  \n",
       "14  165127.911772              покупка жилой недвижимости  \n",
       "15  116820.904450  строительство собственной недвижимости  \n",
       "16  289202.704229                            недвижимость  \n",
       "17   90410.586745              строительство недвижимости  \n",
       "18   56823.777243      на покупку подержанного автомобиля  \n",
       "19  242831.107982            на покупку своего автомобиля  "
      ]
     },
     "execution_count": 2,
     "metadata": {},
     "output_type": "execute_result"
    }
   ],
   "source": [
    "data.head(20)"
   ]
  },
  {
   "cell_type": "markdown",
   "id": "0ed8f27f",
   "metadata": {
    "deletable": false,
    "editable": false,
    "id": "0ed8f27f"
   },
   "source": [
    "**Задание 3. Выведите основную информацию о датафрейме с помощью метода `info()`.**"
   ]
  },
  {
   "cell_type": "code",
   "execution_count": 3,
   "id": "ab3f863b",
   "metadata": {
    "deletable": false,
    "id": "ab3f863b",
    "outputId": "15376089-8dad-46c9-b520-c05248d43158"
   },
   "outputs": [
    {
     "name": "stdout",
     "output_type": "stream",
     "text": [
      "<class 'pandas.core.frame.DataFrame'>\n",
      "RangeIndex: 21525 entries, 0 to 21524\n",
      "Data columns (total 12 columns):\n",
      " #   Column            Non-Null Count  Dtype  \n",
      "---  ------            --------------  -----  \n",
      " 0   children          21525 non-null  int64  \n",
      " 1   days_employed     19351 non-null  float64\n",
      " 2   dob_years         21525 non-null  int64  \n",
      " 3   education         21525 non-null  object \n",
      " 4   education_id      21525 non-null  int64  \n",
      " 5   family_status     21525 non-null  object \n",
      " 6   family_status_id  21525 non-null  int64  \n",
      " 7   gender            21525 non-null  object \n",
      " 8   income_type       21525 non-null  object \n",
      " 9   debt              21525 non-null  int64  \n",
      " 10  total_income      19351 non-null  float64\n",
      " 11  purpose           21525 non-null  object \n",
      "dtypes: float64(2), int64(5), object(5)\n",
      "memory usage: 2.0+ MB\n"
     ]
    }
   ],
   "source": [
    "data.info()"
   ]
  },
  {
   "cell_type": "markdown",
   "id": "60e3e22d",
   "metadata": {
    "deletable": false,
    "editable": false,
    "id": "60e3e22d"
   },
   "source": [
    "## Предобработка данных"
   ]
  },
  {
   "cell_type": "markdown",
   "id": "03dc170c",
   "metadata": {
    "deletable": false,
    "editable": false,
    "id": "03dc170c"
   },
   "source": [
    "### Удаление пропусков"
   ]
  },
  {
   "cell_type": "markdown",
   "id": "a4f54eef",
   "metadata": {
    "deletable": false,
    "editable": false,
    "id": "a4f54eef"
   },
   "source": [
    "**Задание 4. Выведите количество пропущенных значений для каждого столбца. Используйте комбинацию двух методов.**"
   ]
  },
  {
   "cell_type": "code",
   "execution_count": 4,
   "id": "2dc372b2",
   "metadata": {
    "deletable": false,
    "id": "2dc372b2",
    "outputId": "81f4d817-781c-465c-ed15-91ce4446810d"
   },
   "outputs": [
    {
     "data": {
      "text/plain": [
       "children               0\n",
       "days_employed       2174\n",
       "dob_years              0\n",
       "education              0\n",
       "education_id           0\n",
       "family_status          0\n",
       "family_status_id       0\n",
       "gender                 0\n",
       "income_type            0\n",
       "debt                   0\n",
       "total_income        2174\n",
       "purpose                0\n",
       "dtype: int64"
      ]
     },
     "execution_count": 4,
     "metadata": {},
     "output_type": "execute_result"
    }
   ],
   "source": [
    "data.isna().sum()"
   ]
  },
  {
   "cell_type": "markdown",
   "id": "14f011b1",
   "metadata": {
    "deletable": false,
    "editable": false,
    "id": "14f011b1"
   },
   "source": [
    "**Задание 5. В двух столбцах есть пропущенные значения. Один из них — `days_employed`. Пропуски в этом столбце вы обработаете на следующем этапе. Другой столбец с пропущенными значениями — `total_income` — хранит данные о доходах. На сумму дохода сильнее всего влияет тип занятости, поэтому заполнить пропуски в этом столбце нужно медианным значением по каждому типу из столбца `income_type`. Например, у человека с типом занятости `сотрудник` пропуск в столбце `total_income` должен быть заполнен медианным доходом среди всех записей с тем же типом.**"
   ]
  },
  {
   "cell_type": "code",
   "execution_count": 5,
   "id": "bdabfb6e",
   "metadata": {
    "deletable": false,
    "id": "bdabfb6e"
   },
   "outputs": [],
   "source": [
    "for t in data['income_type'].unique():\n",
    "    data.loc[(data['income_type'] == t) & (data['total_income'].isna()), 'total_income'] = \\\n",
    "    data.loc[(data['income_type'] == t), 'total_income'].median()"
   ]
  },
  {
   "cell_type": "markdown",
   "id": "5be34059",
   "metadata": {
    "deletable": false,
    "editable": false,
    "id": "5be34059"
   },
   "source": [
    "### Обработка аномальных значений"
   ]
  },
  {
   "cell_type": "markdown",
   "id": "a87606cb",
   "metadata": {
    "deletable": false,
    "editable": false,
    "id": "a87606cb"
   },
   "source": [
    "**Задание 6. В данных могут встречаться артефакты (аномалии) — значения, которые не отражают действительность и появились по какой-то ошибке. таким артефактом будет отрицательное количество дней трудового стажа в столбце `days_employed`. Для реальных данных это нормально. Обработайте значения в этом столбце: замените все отрицательные значения положительными с помощью метода `abs()`.**"
   ]
  },
  {
   "cell_type": "code",
   "execution_count": 6,
   "id": "020c46cc",
   "metadata": {
    "deletable": false,
    "id": "020c46cc"
   },
   "outputs": [],
   "source": [
    "data['days_employed'] = data['days_employed'].abs()"
   ]
  },
  {
   "cell_type": "markdown",
   "id": "45538a3a",
   "metadata": {
    "deletable": false,
    "editable": false,
    "id": "45538a3a"
   },
   "source": [
    "**Задание 7. Для каждого типа занятости выведите медианное значение трудового стажа `days_employed` в днях.**"
   ]
  },
  {
   "cell_type": "code",
   "execution_count": 7,
   "id": "cd3e6328",
   "metadata": {
    "deletable": false,
    "id": "cd3e6328",
    "outputId": "801ef80e-522b-4668-f34e-565af7432bcf"
   },
   "outputs": [
    {
     "data": {
      "text/plain": [
       "income_type\n",
       "безработный        366413.652744\n",
       "в декрете            3296.759962\n",
       "госслужащий          2689.368353\n",
       "компаньон            1547.382223\n",
       "пенсионер          365213.306266\n",
       "предприниматель       520.848083\n",
       "сотрудник            1574.202821\n",
       "студент               578.751554\n",
       "Name: days_employed, dtype: float64"
      ]
     },
     "execution_count": 7,
     "metadata": {},
     "output_type": "execute_result"
    }
   ],
   "source": [
    "data.groupby('income_type')['days_employed'].agg('median')"
   ]
  },
  {
   "cell_type": "markdown",
   "id": "90c5f058",
   "metadata": {
    "deletable": false,
    "editable": false,
    "id": "90c5f058"
   },
   "source": [
    "У двух типов (безработные и пенсионеры) получатся аномально большие значения. Исправить такие значения сложно, поэтому оставьте их как есть."
   ]
  },
  {
   "cell_type": "markdown",
   "id": "9652e50d",
   "metadata": {
    "deletable": false,
    "editable": false,
    "id": "9652e50d"
   },
   "source": [
    "**Задание 8. Выведите перечень уникальных значений столбца `children`.**"
   ]
  },
  {
   "cell_type": "code",
   "execution_count": 8,
   "id": "dbb37b8e",
   "metadata": {
    "deletable": false,
    "id": "dbb37b8e",
    "outputId": "6975b15c-7f95-4697-d16d-a0c79b657b03"
   },
   "outputs": [
    {
     "data": {
      "text/plain": [
       "array([ 1,  0,  3,  2, -1,  4, 20,  5])"
      ]
     },
     "execution_count": 8,
     "metadata": {},
     "output_type": "execute_result"
    }
   ],
   "source": [
    "data['children'].unique()"
   ]
  },
  {
   "cell_type": "markdown",
   "id": "2b8b0715",
   "metadata": {
    "deletable": false,
    "editable": false,
    "id": "2b8b0715"
   },
   "source": [
    "**Задание 9. В столбце `children` есть два аномальных значения. Удалите строки, в которых встречаются такие аномальные значения из датафрейма `data`.**"
   ]
  },
  {
   "cell_type": "code",
   "execution_count": 9,
   "id": "20009df8",
   "metadata": {
    "deletable": false,
    "id": "20009df8"
   },
   "outputs": [],
   "source": [
    "data = data[(data['children'] != -1) & (data['children'] != 20)]"
   ]
  },
  {
   "cell_type": "markdown",
   "id": "8c6ac9f1",
   "metadata": {
    "deletable": false,
    "editable": false,
    "id": "8c6ac9f1"
   },
   "source": [
    "**Задание 10. Ещё раз выведите перечень уникальных значений столбца `children`, чтобы убедиться, что артефакты удалены.**"
   ]
  },
  {
   "cell_type": "code",
   "execution_count": 10,
   "id": "07337b81",
   "metadata": {
    "deletable": false,
    "id": "07337b81",
    "outputId": "b2097101-d49d-44d9-901b-32a65c9463d1"
   },
   "outputs": [
    {
     "data": {
      "text/plain": [
       "array([1, 0, 3, 2, 4, 5])"
      ]
     },
     "execution_count": 10,
     "metadata": {},
     "output_type": "execute_result"
    }
   ],
   "source": [
    "data['children'].unique()"
   ]
  },
  {
   "cell_type": "markdown",
   "id": "ee3f52d4",
   "metadata": {
    "deletable": false,
    "editable": false,
    "id": "ee3f52d4"
   },
   "source": [
    "### Удаление пропусков (продолжение)"
   ]
  },
  {
   "cell_type": "markdown",
   "id": "a700b0e4",
   "metadata": {
    "deletable": false,
    "editable": false,
    "id": "a700b0e4"
   },
   "source": [
    "**Задание 11. Заполните пропуски в столбце `days_employed` медианными значениями по каждого типа занятости `income_type`.**"
   ]
  },
  {
   "cell_type": "code",
   "execution_count": 11,
   "id": "61946b83",
   "metadata": {
    "deletable": false,
    "id": "61946b83"
   },
   "outputs": [],
   "source": [
    "for t in data['income_type'].unique():\n",
    "    data.loc[(data['income_type'] == t) & (data['days_employed'].isna()), 'days_employed'] = \\\n",
    "    data.loc[(data['income_type'] == t), 'days_employed'].median()"
   ]
  },
  {
   "cell_type": "markdown",
   "id": "550dcd9b",
   "metadata": {
    "deletable": false,
    "editable": false,
    "id": "550dcd9b"
   },
   "source": [
    "**Задание 12. Убедитесь, что все пропуски заполнены. Проверьте себя и ещё раз выведите количество пропущенных значений для каждого столбца с помощью двух методов.**"
   ]
  },
  {
   "cell_type": "code",
   "execution_count": 12,
   "id": "937c7014",
   "metadata": {
    "deletable": false,
    "id": "937c7014",
    "outputId": "8da1e4e1-358e-4e87-98c9-f261bce0a7b2"
   },
   "outputs": [
    {
     "data": {
      "text/plain": [
       "children            0\n",
       "days_employed       0\n",
       "dob_years           0\n",
       "education           0\n",
       "education_id        0\n",
       "family_status       0\n",
       "family_status_id    0\n",
       "gender              0\n",
       "income_type         0\n",
       "debt                0\n",
       "total_income        0\n",
       "purpose             0\n",
       "dtype: int64"
      ]
     },
     "execution_count": 12,
     "metadata": {},
     "output_type": "execute_result"
    }
   ],
   "source": [
    "data.isna().sum()"
   ]
  },
  {
   "cell_type": "markdown",
   "id": "d522e295",
   "metadata": {
    "deletable": false,
    "editable": false,
    "id": "d522e295"
   },
   "source": [
    "### Изменение типов данных"
   ]
  },
  {
   "cell_type": "markdown",
   "id": "c229c581",
   "metadata": {
    "deletable": false,
    "editable": false,
    "id": "c229c581"
   },
   "source": [
    "**Задание 13. Замените вещественный тип данных в столбце `total_income` на целочисленный с помощью метода `astype()`.**"
   ]
  },
  {
   "cell_type": "code",
   "execution_count": 13,
   "id": "31036462",
   "metadata": {
    "deletable": false,
    "id": "31036462"
   },
   "outputs": [],
   "source": [
    "data['total_income'] = data['total_income'].astype(int)"
   ]
  },
  {
   "cell_type": "markdown",
   "id": "b8e3d1d9",
   "metadata": {
    "deletable": false,
    "editable": false,
    "id": "b8e3d1d9"
   },
   "source": [
    "### Обработка дубликатов"
   ]
  },
  {
   "cell_type": "markdown",
   "id": "9be53c49",
   "metadata": {
    "deletable": false,
    "editable": false,
    "id": "9be53c49"
   },
   "source": [
    "**Задание 14. Обработайте неявные дубликаты в столбце `education`. В этом столбце есть одни и те же значения, но записанные по-разному: с использованием заглавных и строчных букв. Приведите их к нижнему регистру.**"
   ]
  },
  {
   "cell_type": "code",
   "execution_count": 14,
   "id": "d89e73e1",
   "metadata": {
    "deletable": false,
    "id": "d89e73e1"
   },
   "outputs": [],
   "source": [
    "data['education'] = data['education'].str.lower()"
   ]
  },
  {
   "cell_type": "markdown",
   "id": "01d4500e",
   "metadata": {
    "deletable": false,
    "editable": false,
    "id": "01d4500e"
   },
   "source": [
    "**Задание 15. Выведите на экран количество строк-дубликатов в данных. Если такие строки присутствуют, удалите их.**"
   ]
  },
  {
   "cell_type": "code",
   "execution_count": 15,
   "id": "e10efb23",
   "metadata": {
    "deletable": false,
    "id": "e10efb23",
    "outputId": "9684deba-1934-42d1-99e1-cda61740f822"
   },
   "outputs": [
    {
     "data": {
      "text/plain": [
       "71"
      ]
     },
     "execution_count": 15,
     "metadata": {},
     "output_type": "execute_result"
    }
   ],
   "source": [
    "data.duplicated().sum()"
   ]
  },
  {
   "cell_type": "code",
   "execution_count": 16,
   "id": "df853f20",
   "metadata": {
    "deletable": false,
    "id": "df853f20"
   },
   "outputs": [],
   "source": [
    "data = data.drop_duplicates()"
   ]
  },
  {
   "cell_type": "markdown",
   "id": "627be38f",
   "metadata": {
    "deletable": false,
    "editable": false,
    "id": "627be38f"
   },
   "source": [
    "### Категоризация данных"
   ]
  },
  {
   "cell_type": "markdown",
   "id": "4684c3e0",
   "metadata": {
    "deletable": false,
    "editable": false,
    "id": "4684c3e0"
   },
   "source": [
    "**Задание 16. На основании диапазонов, указанных ниже, создайте в датафрейме `data` столбец `total_income_category` с категориями:**\n",
    "\n",
    "- 0–30000 — `'E'`;\n",
    "- 30001–50000 — `'D'`;\n",
    "- 50001–200000 — `'C'`;\n",
    "- 200001–1000000 — `'B'`;\n",
    "- 1000001 и выше — `'A'`.\n",
    "\n",
    "\n",
    "**Например, кредитополучателю с доходом 25000 нужно назначить категорию `'E'`, а клиенту, получающему 235000, — `'B'`. Используйте собственную функцию с именем `categorize_income()` и метод `apply()`.**"
   ]
  },
  {
   "cell_type": "code",
   "execution_count": 17,
   "id": "78965238",
   "metadata": {
    "deletable": false,
    "id": "78965238"
   },
   "outputs": [],
   "source": [
    "def categorize_income(income):\n",
    "    try:\n",
    "        if 0 <= income <= 30000:\n",
    "            return 'E'\n",
    "        elif 30001 <= income <= 50000:\n",
    "            return 'D'\n",
    "        elif 50001 <= income <= 200000:\n",
    "            return 'C'\n",
    "        elif 200001 <= income <= 1000000:\n",
    "            return 'B'\n",
    "        elif income >= 1000001:\n",
    "            return 'A'\n",
    "    except:\n",
    "        pass"
   ]
  },
  {
   "cell_type": "code",
   "execution_count": 18,
   "id": "0980ada1",
   "metadata": {
    "deletable": false,
    "id": "0980ada1"
   },
   "outputs": [],
   "source": [
    "data['total_income_category'] = data['total_income'].apply(categorize_income)"
   ]
  },
  {
   "cell_type": "markdown",
   "id": "9917bba0",
   "metadata": {
    "deletable": false,
    "editable": false,
    "id": "9917bba0"
   },
   "source": [
    "**Задание 17. Выведите на экран перечень уникальных целей взятия кредита из столбца `purpose`.**"
   ]
  },
  {
   "cell_type": "code",
   "execution_count": 19,
   "id": "ee07b65e",
   "metadata": {
    "deletable": false,
    "id": "ee07b65e",
    "outputId": "673c12d9-7d7e-4ae0-9812-c622c89dd244"
   },
   "outputs": [
    {
     "data": {
      "text/plain": [
       "array(['покупка жилья', 'приобретение автомобиля',\n",
       "       'дополнительное образование', 'сыграть свадьбу',\n",
       "       'операции с жильем', 'образование', 'на проведение свадьбы',\n",
       "       'покупка жилья для семьи', 'покупка недвижимости',\n",
       "       'покупка коммерческой недвижимости', 'покупка жилой недвижимости',\n",
       "       'строительство собственной недвижимости', 'недвижимость',\n",
       "       'строительство недвижимости', 'на покупку подержанного автомобиля',\n",
       "       'на покупку своего автомобиля',\n",
       "       'операции с коммерческой недвижимостью',\n",
       "       'строительство жилой недвижимости', 'жилье',\n",
       "       'операции со своей недвижимостью', 'автомобили',\n",
       "       'заняться образованием', 'сделка с подержанным автомобилем',\n",
       "       'получение образования', 'автомобиль', 'свадьба',\n",
       "       'получение дополнительного образования', 'покупка своего жилья',\n",
       "       'операции с недвижимостью', 'получение высшего образования',\n",
       "       'свой автомобиль', 'сделка с автомобилем',\n",
       "       'профильное образование', 'высшее образование',\n",
       "       'покупка жилья для сдачи', 'на покупку автомобиля', 'ремонт жилью',\n",
       "       'заняться высшим образованием'], dtype=object)"
      ]
     },
     "execution_count": 19,
     "metadata": {},
     "output_type": "execute_result"
    }
   ],
   "source": [
    "data['purpose'].unique()"
   ]
  },
  {
   "cell_type": "markdown",
   "id": "52b79d56",
   "metadata": {
    "deletable": false,
    "editable": false,
    "id": "52b79d56"
   },
   "source": [
    "**Задание 18. Создайте функцию, которая на основании данных из столбца `purpose` сформирует новый столбец `purpose_category`, в который войдут следующие категории:**\n",
    "\n",
    "- `'операции с автомобилем'`,\n",
    "- `'операции с недвижимостью'`,\n",
    "- `'проведение свадьбы'`,\n",
    "- `'получение образования'`.\n",
    "\n",
    "**Например, если в столбце `purpose` находится подстрока `'на покупку автомобиля'`, то в столбце `purpose_category` должна появиться строка `'операции с автомобилем'`.**\n",
    "\n",
    "**Используйте собственную функцию с именем `categorize_purpose()` и метод `apply()`. Изучите данные в столбце `purpose` и определите, какие подстроки помогут вам правильно определить категорию.**"
   ]
  },
  {
   "cell_type": "code",
   "execution_count": 20,
   "id": "be41da5d",
   "metadata": {
    "deletable": false,
    "id": "be41da5d"
   },
   "outputs": [],
   "source": [
    "def categorize_purpose(row):\n",
    "    try:\n",
    "        if 'автом' in row:\n",
    "            return 'операции с автомобилем'\n",
    "        elif 'жил' in row or 'недвиж' in row:\n",
    "            return 'операции с недвижимостью'\n",
    "        elif 'свад' in row:\n",
    "            return 'проведение свадьбы'\n",
    "        elif 'образов' in row:\n",
    "            return 'получение образования'\n",
    "    except:\n",
    "        return 'нет категории'"
   ]
  },
  {
   "cell_type": "code",
   "execution_count": 21,
   "id": "94c4a19a",
   "metadata": {
    "deletable": false,
    "id": "94c4a19a"
   },
   "outputs": [],
   "source": [
    "data['purpose_category'] = data['purpose'].apply(categorize_purpose)"
   ]
  },
  {
   "cell_type": "markdown",
   "id": "3d596c34",
   "metadata": {
    "deletable": false,
    "editable": false,
    "id": "3d596c34"
   },
   "source": [
    "### Шаг 3. Исследуйте данные и ответьте на вопросы"
   ]
  },
  {
   "cell_type": "markdown",
   "id": "29eceb81",
   "metadata": {},
   "source": [
    "**Общая информация о проекте**\n",
    "В первой части этого проекта были подготовлены данные для дальнейшей работы с ними. Пропуски были заполнены; неправильные значения были изменены на те, которые можно использовать в расчетах; для удобства были добавлены новые классификации для клиентов по уровню дохода, а также классификация по целям, на которые берут займ. \n",
    "Во второй части будут подготовлены ответы на вопросы поставленные к этим данным. Это вопросы как о зависимости между данными, так и о природе этих данных. \n",
    "Поставленные вопросы: \n",
    "- Есть ли зависимость между количеством детей и возвратом кредита в срок?\n",
    "- Есть ли зависимость между семейным положением и возвратом кредита в срок?\n",
    "- Есть ли зависимость между уровнем дохода и возвратом кредита в срок?\n",
    "- Как разные цели кредита влияют на его возврат в срок?\n",
    "- Приведите возможные причины появления пропусков в исходных данных.\n"
   ]
  },
  {
   "cell_type": "markdown",
   "id": "add523e6",
   "metadata": {},
   "source": [
    "#### Импорт дополнительных библиотек и проверка данных, которые мы будем дополнительно использовать"
   ]
  },
  {
   "cell_type": "markdown",
   "id": "b5843551",
   "metadata": {},
   "source": [
    "Далее нам потребуется библиотека seaborn и matplotlib.pyplot для удобного представления результатов. "
   ]
  },
  {
   "cell_type": "code",
   "execution_count": 22,
   "id": "77ed47bf",
   "metadata": {},
   "outputs": [],
   "source": [
    "import seaborn as sns\n",
    "import matplotlib.pyplot as plt"
   ]
  },
  {
   "cell_type": "markdown",
   "id": "e6c2ad61",
   "metadata": {},
   "source": [
    "Также сразу установим единый стиль для графиков, а также для результатов вывода. "
   ]
  },
  {
   "cell_type": "code",
   "execution_count": 23,
   "id": "464fdb98",
   "metadata": {},
   "outputs": [],
   "source": [
    "# установим единый стиль для графиков\n",
    "sns.set_style('whitegrid')\n",
    "sns.set_context(\"poster\", font_scale = 0.5, rc={\"grid.linewidth\": 1})\n",
    "# установим единый формат для вывода данных\n",
    "pd.options.display.float_format = '{:,.2f}'.format"
   ]
  },
  {
   "cell_type": "markdown",
   "id": "fc962c54",
   "metadata": {},
   "source": [
    "Получим количество случаев с существующей, либо ранее отмеченной задолженностью. \n",
    "В столбце представлены данные в числовых значениях: '0' — задолженности нет, '1' — задолженность есть, либо была ранее."
   ]
  },
  {
   "cell_type": "code",
   "execution_count": 24,
   "id": "2a3030cc",
   "metadata": {},
   "outputs": [
    {
     "data": {
      "text/plain": [
       "0    19599\n",
       "1     1732\n",
       "Name: debt, dtype: int64"
      ]
     },
     "execution_count": 24,
     "metadata": {},
     "output_type": "execute_result"
    }
   ],
   "source": [
    "# посчитаем количество уникальных значений в столбце 'debt' - задолженность \n",
    "data['debt'].value_counts()"
   ]
  },
  {
   "cell_type": "markdown",
   "id": "22596bfd",
   "metadata": {},
   "source": [
    "Из общего количества клиентов — 21525, 1732 — имеют, либо имели задолженность. Эта информация понадобится нам далее. "
   ]
  },
  {
   "cell_type": "markdown",
   "id": "322a5bc7",
   "metadata": {},
   "source": [
    "##### Создадим функцию, к которой будем обращаться для получения данных для подсчета зависимостей. "
   ]
  },
  {
   "cell_type": "code",
   "execution_count": 25,
   "id": "2a693aae",
   "metadata": {},
   "outputs": [],
   "source": [
    "def pivot_table_ref (series_name):\n",
    "    try:\n",
    "        df_get = data.pivot_table(index=series_name, values='dob_years', columns='debt', aggfunc='count')\n",
    "        df_get = data.pivot_table(index=series_name, values='debt', aggfunc=['sum', 'count', 'mean']).reset_index()\n",
    "        df_get['mean'] = df_get['mean']*100\n",
    "        return df_get\n",
    "    except:\n",
    "        return print('Проверьте название столбца, по которому должен проводиться анализ')\n"
   ]
  },
  {
   "cell_type": "markdown",
   "id": "648db036",
   "metadata": {
    "deletable": false,
    "editable": false,
    "id": "648db036"
   },
   "source": [
    "#### 3.1 Есть ли зависимость между количеством детей и возвратом кредита в срок?"
   ]
  },
  {
   "cell_type": "code",
   "execution_count": 26,
   "id": "7fcff25e",
   "metadata": {
    "deletable": false,
    "id": "7fcff25e"
   },
   "outputs": [],
   "source": [
    "# Ваш код будет здесь. Вы можете создавать новые ячейки."
   ]
  },
  {
   "cell_type": "markdown",
   "id": "33186b4d",
   "metadata": {},
   "source": [
    "Чтобы получить ответ на этот вопрос, нам нужно будет проанализировать клиентов с задолженностью, в разрезе наличия и количества детей."
   ]
  },
  {
   "cell_type": "code",
   "execution_count": 27,
   "id": "de82b317",
   "metadata": {},
   "outputs": [
    {
     "data": {
      "text/html": [
       "<div>\n",
       "<style scoped>\n",
       "    .dataframe tbody tr th:only-of-type {\n",
       "        vertical-align: middle;\n",
       "    }\n",
       "\n",
       "    .dataframe tbody tr th {\n",
       "        vertical-align: top;\n",
       "    }\n",
       "\n",
       "    .dataframe thead th {\n",
       "        text-align: right;\n",
       "    }\n",
       "</style>\n",
       "<table border=\"1\" class=\"dataframe\">\n",
       "  <thead>\n",
       "    <tr style=\"text-align: right;\">\n",
       "      <th></th>\n",
       "      <th>Количество детей</th>\n",
       "      <th>Количество должников</th>\n",
       "      <th>Клиентов в категории</th>\n",
       "      <th>Процент просроченных платежей по категории</th>\n",
       "    </tr>\n",
       "  </thead>\n",
       "  <tbody>\n",
       "    <tr>\n",
       "      <th>0</th>\n",
       "      <td>0</td>\n",
       "      <td>1063</td>\n",
       "      <td>14091</td>\n",
       "      <td>7.54</td>\n",
       "    </tr>\n",
       "    <tr>\n",
       "      <th>1</th>\n",
       "      <td>1</td>\n",
       "      <td>444</td>\n",
       "      <td>4808</td>\n",
       "      <td>9.23</td>\n",
       "    </tr>\n",
       "    <tr>\n",
       "      <th>2</th>\n",
       "      <td>2</td>\n",
       "      <td>194</td>\n",
       "      <td>2052</td>\n",
       "      <td>9.45</td>\n",
       "    </tr>\n",
       "    <tr>\n",
       "      <th>3</th>\n",
       "      <td>3</td>\n",
       "      <td>27</td>\n",
       "      <td>330</td>\n",
       "      <td>8.18</td>\n",
       "    </tr>\n",
       "    <tr>\n",
       "      <th>4</th>\n",
       "      <td>4</td>\n",
       "      <td>4</td>\n",
       "      <td>41</td>\n",
       "      <td>9.76</td>\n",
       "    </tr>\n",
       "    <tr>\n",
       "      <th>5</th>\n",
       "      <td>5</td>\n",
       "      <td>0</td>\n",
       "      <td>9</td>\n",
       "      <td>0.00</td>\n",
       "    </tr>\n",
       "  </tbody>\n",
       "</table>\n",
       "</div>"
      ],
      "text/plain": [
       "   Количество детей  Количество должников  Клиентов в категории  \\\n",
       "0                 0                  1063                 14091   \n",
       "1                 1                   444                  4808   \n",
       "2                 2                   194                  2052   \n",
       "3                 3                    27                   330   \n",
       "4                 4                     4                    41   \n",
       "5                 5                     0                     9   \n",
       "\n",
       "   Процент просроченных платежей по категории  \n",
       "0                                        7.54  \n",
       "1                                        9.23  \n",
       "2                                        9.45  \n",
       "3                                        8.18  \n",
       "4                                        9.76  \n",
       "5                                        0.00  "
      ]
     },
     "metadata": {},
     "output_type": "display_data"
    }
   ],
   "source": [
    "# получаем dataframe с сортировкой по столбцу 'children'\n",
    "children_debt_df = pivot_table_ref('children')\n",
    "try:\n",
    "    # добавим разметку для полученных данных\n",
    "    children_debt_df = children_debt_df.set_axis(['Количество детей', 'Количество должников', 'Клиентов в категории', 'Процент просроченных платежей по категории'], axis='columns')\n",
    "    # выведем результат\n",
    "    children_debt_df = children_debt_df.sort_values(by='Количество детей', ascending=True) \n",
    "    display(children_debt_df)\n",
    "except:\n",
    "    print('С данными что-то не так, обратите на это внимание')"
   ]
  },
  {
   "cell_type": "code",
   "execution_count": 28,
   "id": "df855fad",
   "metadata": {},
   "outputs": [
    {
     "data": {
      "image/png": "[encoded data removed]",
      "text/plain": [
       "<Figure size 432x288 with 1 Axes>"
      ]
     },
     "metadata": {},
     "output_type": "display_data"
    }
   ],
   "source": [
    "try:\n",
    "    # используем для отображения результатов график зависимостей \n",
    "    sns_children_barplot_show = sns.barplot(y='Процент просроченных платежей по категории', x='Количество детей', data=children_debt_df, palette='Blues_r')\n",
    "    sns_children_barplot_show.set(ylabel='Процент просроченных платежей', xlabel='Количество детей', title='Зависимость между количеством детей и возвратом кредита в срок')\n",
    "    sns_children_barplot_show;\n",
    "except:\n",
    "    print('С данными что-то не так, обратите на это внимание')"
   ]
  },
  {
   "cell_type": "markdown",
   "id": "2eb9088e",
   "metadata": {
    "deletable": false,
    "id": "2eb9088e"
   },
   "source": []
  },
  {
   "cell_type": "markdown",
   "id": "5829ca6b",
   "metadata": {},
   "source": [
    "**Вывод:** По полученным данным видно, что начиная с клиентов у которых нет детей и до клиентов с двумя детьми, искомые данные закономерно увеличиваются. При отсутствии детей процент просроченных платежей по категории приобретает значение — 7.54, при одном ребенке — 9.23, при двух — 9.45.\n",
    "\n",
    "Можно было бы предположить, что при большем количестве детей сложнее возвращать кредит, но начиная с клиентов у которых три и более ребенка выборка становится достаточно мала и выводы по ней могут быть не достоверными. \n",
    "\n",
    "На текущий момент можно сделать вывод, что закономерности между количеством детей и склонностью задерживать выплаты по кредиту нет. "
   ]
  },
  {
   "cell_type": "markdown",
   "id": "74c9b3a7",
   "metadata": {
    "deletable": false,
    "editable": false,
    "id": "74c9b3a7"
   },
   "source": [
    "#### 3.2 Есть ли зависимость между семейным положением и возвратом кредита в срок?"
   ]
  },
  {
   "cell_type": "code",
   "execution_count": 29,
   "id": "8098ab3b",
   "metadata": {
    "deletable": false,
    "id": "8098ab3b"
   },
   "outputs": [],
   "source": [
    "# Ваш код будет здесь. Вы можете создавать новые ячейки."
   ]
  },
  {
   "cell_type": "markdown",
   "id": "c30a9146",
   "metadata": {},
   "source": [
    "Проверим то как сильно влияет семейное положение на способность клиентов возвращать займ в срок. "
   ]
  },
  {
   "cell_type": "code",
   "execution_count": 30,
   "id": "9bcde95f",
   "metadata": {},
   "outputs": [
    {
     "data": {
      "text/html": [
       "<div>\n",
       "<style scoped>\n",
       "    .dataframe tbody tr th:only-of-type {\n",
       "        vertical-align: middle;\n",
       "    }\n",
       "\n",
       "    .dataframe tbody tr th {\n",
       "        vertical-align: top;\n",
       "    }\n",
       "\n",
       "    .dataframe thead th {\n",
       "        text-align: right;\n",
       "    }\n",
       "</style>\n",
       "<table border=\"1\" class=\"dataframe\">\n",
       "  <thead>\n",
       "    <tr style=\"text-align: right;\">\n",
       "      <th></th>\n",
       "      <th>Семейное положение</th>\n",
       "      <th>Количество должников</th>\n",
       "      <th>Клиентов в категории</th>\n",
       "      <th>Процент просроченных платежей по категории</th>\n",
       "    </tr>\n",
       "  </thead>\n",
       "  <tbody>\n",
       "    <tr>\n",
       "      <th>2</th>\n",
       "      <td>вдовец / вдова</td>\n",
       "      <td>63</td>\n",
       "      <td>951</td>\n",
       "      <td>6.62</td>\n",
       "    </tr>\n",
       "    <tr>\n",
       "      <th>1</th>\n",
       "      <td>в разводе</td>\n",
       "      <td>84</td>\n",
       "      <td>1189</td>\n",
       "      <td>7.06</td>\n",
       "    </tr>\n",
       "    <tr>\n",
       "      <th>4</th>\n",
       "      <td>женат / замужем</td>\n",
       "      <td>927</td>\n",
       "      <td>12261</td>\n",
       "      <td>7.56</td>\n",
       "    </tr>\n",
       "    <tr>\n",
       "      <th>3</th>\n",
       "      <td>гражданский брак</td>\n",
       "      <td>385</td>\n",
       "      <td>4134</td>\n",
       "      <td>9.31</td>\n",
       "    </tr>\n",
       "    <tr>\n",
       "      <th>0</th>\n",
       "      <td>Не женат / не замужем</td>\n",
       "      <td>273</td>\n",
       "      <td>2796</td>\n",
       "      <td>9.76</td>\n",
       "    </tr>\n",
       "  </tbody>\n",
       "</table>\n",
       "</div>"
      ],
      "text/plain": [
       "      Семейное положение  Количество должников  Клиентов в категории  \\\n",
       "2         вдовец / вдова                    63                   951   \n",
       "1              в разводе                    84                  1189   \n",
       "4        женат / замужем                   927                 12261   \n",
       "3       гражданский брак                   385                  4134   \n",
       "0  Не женат / не замужем                   273                  2796   \n",
       "\n",
       "   Процент просроченных платежей по категории  \n",
       "2                                        6.62  \n",
       "1                                        7.06  \n",
       "4                                        7.56  \n",
       "3                                        9.31  \n",
       "0                                        9.76  "
      ]
     },
     "metadata": {},
     "output_type": "display_data"
    }
   ],
   "source": [
    "try:\n",
    "    # получаем dataframe с сортировкой по столбцу 'family_status'\n",
    "    family_status_debt_df = pivot_table_ref('family_status')\n",
    "    # добавим разметку для полученных данных\n",
    "    family_status_debt_df = family_status_debt_df.set_axis(['Семейное положение', 'Количество должников', 'Клиентов в категории', 'Процент просроченных платежей по категории'], axis='columns')\n",
    "    family_status_debt_df = family_status_debt_df.sort_values(by='Процент просроченных платежей по категории', ascending=True)\n",
    "    # выведем результат \n",
    "    display(family_status_debt_df)\n",
    "except:\n",
    "    print('С данными что-то не так, обратите на это внимание')"
   ]
  },
  {
   "cell_type": "code",
   "execution_count": 31,
   "id": "5614420b",
   "metadata": {
    "scrolled": true
   },
   "outputs": [
    {
     "data": {
      "image/png": "[encoded data removed]",
      "text/plain": [
       "<Figure size 432x288 with 1 Axes>"
      ]
     },
     "metadata": {},
     "output_type": "display_data"
    }
   ],
   "source": [
    "try:\n",
    "    # используем для отображения результатов график зависимостей \n",
    "    plt.xticks(rotation=90)\n",
    "    sns_family_status_barplot_show = sns.barplot(y='Процент просроченных платежей по категории', x='Семейное положение', data=family_status_debt_df, palette='Blues_r')\n",
    "    sns_family_status_barplot_show.set(ylabel='Процент просроченных платежей', xlabel='Семейное положение', title='Зависимость между семейным положением и возвратом кредита в срок')\n",
    "    sns_family_status_barplot_show;\n",
    "except:\n",
    "    print('С данными что-то не так, обратите на это внимание')"
   ]
  },
  {
   "cell_type": "markdown",
   "id": "c389ca63",
   "metadata": {
    "deletable": false,
    "id": "c389ca63"
   },
   "source": [
    "**Вывод:** По полученным данным видно, что некоторая зависимость между семейным положением и клиентами, которые задерживают выплаты есть. \n",
    "\n",
    "Предположим, что градация категорий происходит по наличию и отсутствию партнера; по официальному статусу отношений; по тому, были ли ранее отношения; и по обязательствам клиента в отношении своего партнера. \n",
    "Таким образом порядок будет следующий: \n",
    "1. Не женат/не замужем — партнера нет и не было, \n",
    "2. Гражданский брак — партнер есть, но обязательств между ним и клентом нет, \n",
    "3. Женат/замужем — партнер есть и обязательства между ними официально закреплены, \n",
    "4. В разводе — партнера уже нет, но обязательства между ними еще могут быть,  \n",
    "5. Вдовец/вдова — партнера нет, но также нет и обязательств между ними. \n",
    "\n",
    "На основании этого, можно сделать вывод, что клиенты, которые свободны от любых отношений, хуже всего относятся к кредитным обязательствам, у них процент по просроченным кредитам — 0.098, но процент задолженности пропорционально уменьшается в зависимости от более сложных семейных отношений и достигает минимального значения 0.066 в категории вдовствующих клиентов. "
   ]
  },
  {
   "cell_type": "markdown",
   "id": "9529de68",
   "metadata": {
    "deletable": false,
    "editable": false,
    "id": "9529de68"
   },
   "source": [
    "#### 3.3 Есть ли зависимость между уровнем дохода и возвратом кредита в срок?"
   ]
  },
  {
   "cell_type": "code",
   "execution_count": 32,
   "id": "8787f44a",
   "metadata": {
    "deletable": false,
    "id": "8787f44a"
   },
   "outputs": [],
   "source": [
    "# Ваш код будет здесь. Вы можете создавать новые ячейки."
   ]
  },
  {
   "cell_type": "markdown",
   "id": "e91d3167",
   "metadata": {},
   "source": [
    "Проверим то, как сильно влияет уровень дохода клиентов на то, склонна ли эта категория клиентов задолжать или нет. \n",
    "Ранее мы подготовили данные и распределили клиентов с разным уровнем дохода в определенные категории А, В, С, D, E, где А - группа с наибольшим доходом, Е — группа с наименьшим. \n",
    "Далее будем опираться на эти категории и делить клиентов только по ним. "
   ]
  },
  {
   "cell_type": "code",
   "execution_count": 33,
   "id": "29dcd565",
   "metadata": {},
   "outputs": [
    {
     "data": {
      "text/html": [
       "<div>\n",
       "<style scoped>\n",
       "    .dataframe tbody tr th:only-of-type {\n",
       "        vertical-align: middle;\n",
       "    }\n",
       "\n",
       "    .dataframe tbody tr th {\n",
       "        vertical-align: top;\n",
       "    }\n",
       "\n",
       "    .dataframe thead th {\n",
       "        text-align: right;\n",
       "    }\n",
       "</style>\n",
       "<table border=\"1\" class=\"dataframe\">\n",
       "  <thead>\n",
       "    <tr style=\"text-align: right;\">\n",
       "      <th></th>\n",
       "      <th>Категория дохода клиента</th>\n",
       "      <th>Количество должников</th>\n",
       "      <th>Клиентов в категории</th>\n",
       "      <th>Процент просроченных платежей по категории</th>\n",
       "    </tr>\n",
       "  </thead>\n",
       "  <tbody>\n",
       "    <tr>\n",
       "      <th>0</th>\n",
       "      <td>A</td>\n",
       "      <td>2</td>\n",
       "      <td>25</td>\n",
       "      <td>8.00</td>\n",
       "    </tr>\n",
       "    <tr>\n",
       "      <th>1</th>\n",
       "      <td>B</td>\n",
       "      <td>354</td>\n",
       "      <td>5014</td>\n",
       "      <td>7.06</td>\n",
       "    </tr>\n",
       "    <tr>\n",
       "      <th>2</th>\n",
       "      <td>C</td>\n",
       "      <td>1353</td>\n",
       "      <td>15921</td>\n",
       "      <td>8.50</td>\n",
       "    </tr>\n",
       "    <tr>\n",
       "      <th>3</th>\n",
       "      <td>D</td>\n",
       "      <td>21</td>\n",
       "      <td>349</td>\n",
       "      <td>6.02</td>\n",
       "    </tr>\n",
       "    <tr>\n",
       "      <th>4</th>\n",
       "      <td>E</td>\n",
       "      <td>2</td>\n",
       "      <td>22</td>\n",
       "      <td>9.09</td>\n",
       "    </tr>\n",
       "  </tbody>\n",
       "</table>\n",
       "</div>"
      ],
      "text/plain": [
       "  Категория дохода клиента  Количество должников  Клиентов в категории  \\\n",
       "0                        A                     2                    25   \n",
       "1                        B                   354                  5014   \n",
       "2                        C                  1353                 15921   \n",
       "3                        D                    21                   349   \n",
       "4                        E                     2                    22   \n",
       "\n",
       "   Процент просроченных платежей по категории  \n",
       "0                                        8.00  \n",
       "1                                        7.06  \n",
       "2                                        8.50  \n",
       "3                                        6.02  \n",
       "4                                        9.09  "
      ]
     },
     "metadata": {},
     "output_type": "display_data"
    }
   ],
   "source": [
    "try:\n",
    "    # получаем dataframe с сортировкой по столбцу 'total_income_category'\n",
    "    total_income_category_debt_df = pivot_table_ref('total_income_category')\n",
    "    # добавим разметку для полученных данных\n",
    "    total_income_category_debt_df = total_income_category_debt_df.set_axis(['Категория дохода клиента', 'Количество должников', 'Клиентов в категории', 'Процент просроченных платежей по категории'], axis='columns')\n",
    "    total_income_category_debt_df = total_income_category_debt_df.sort_values(by='Категория дохода клиента', ascending=True) \n",
    "    # выведем результат\n",
    "    display(total_income_category_debt_df)\n",
    "except:\n",
    "    print('С данными что-то не так, обратите на это внимание')"
   ]
  },
  {
   "cell_type": "code",
   "execution_count": 34,
   "id": "9d8de723",
   "metadata": {},
   "outputs": [
    {
     "data": {
      "image/png": "[encoded data removed]",
      "text/plain": [
       "<Figure size 432x288 with 1 Axes>"
      ]
     },
     "metadata": {},
     "output_type": "display_data"
    }
   ],
   "source": [
    "try:\n",
    "    # используем для отображения результатов график зависимостей \n",
    "    sns_total_income_category_barplot_show = sns.barplot(y='Процент просроченных платежей по категории', x='Категория дохода клиента', data=total_income_category_debt_df, palette='Blues_r')\n",
    "    sns_total_income_category_barplot_show.set(ylabel='Процент просроченных платежей', xlabel='Категория дохода клиента', title='Зависимость между уровнем дохода клиента и возвратом кредита в срок')\n",
    "    sns_total_income_category_barplot_show;\n",
    "except:\n",
    "    print('С данными что-то не так, обратите на это внимание')"
   ]
  },
  {
   "cell_type": "markdown",
   "id": "6dd14b57",
   "metadata": {
    "deletable": false,
    "id": "6dd14b57"
   },
   "source": [
    "**Вывод:** По полученным данным сложно определить взаимосвязь между уровнем дохода клиента и возвратом кредита в срок. Вероятнее всего это обусловлено тем, что клиентов с максимальным уровнем дохода — А, а также с минимальными — D и E, сильно меньше и полученные данные не дают полного представления и возможностей для анализа. \n",
    "\n",
    "Скорее всего это связано с тем, что в изначальных данных был недостаток данных по заработку клиентов и пропущенные данные были заполнены медианным значением. "
   ]
  },
  {
   "cell_type": "markdown",
   "id": "1dcc9b12",
   "metadata": {
    "deletable": false,
    "editable": false,
    "id": "1dcc9b12"
   },
   "source": [
    "#### 3.4 Как разные цели кредита влияют на его возврат в срок?"
   ]
  },
  {
   "cell_type": "code",
   "execution_count": 35,
   "id": "c602bc8b",
   "metadata": {
    "deletable": false,
    "id": "c602bc8b"
   },
   "outputs": [],
   "source": [
    "# Ваш код будет здесь. Вы можете создавать новые ячейки."
   ]
  },
  {
   "cell_type": "markdown",
   "id": "ad26baa8",
   "metadata": {},
   "source": [
    "Посмотрим на то, при каких целях кредита, процент по задолженностям будет выше."
   ]
  },
  {
   "cell_type": "code",
   "execution_count": 36,
   "id": "35cf1e6f",
   "metadata": {},
   "outputs": [
    {
     "data": {
      "text/html": [
       "<div>\n",
       "<style scoped>\n",
       "    .dataframe tbody tr th:only-of-type {\n",
       "        vertical-align: middle;\n",
       "    }\n",
       "\n",
       "    .dataframe tbody tr th {\n",
       "        vertical-align: top;\n",
       "    }\n",
       "\n",
       "    .dataframe thead th {\n",
       "        text-align: right;\n",
       "    }\n",
       "</style>\n",
       "<table border=\"1\" class=\"dataframe\">\n",
       "  <thead>\n",
       "    <tr style=\"text-align: right;\">\n",
       "      <th></th>\n",
       "      <th>Цели кредита</th>\n",
       "      <th>Количество должников</th>\n",
       "      <th>Клиентов в категории</th>\n",
       "      <th>Процент просроченных платежей по категории</th>\n",
       "    </tr>\n",
       "  </thead>\n",
       "  <tbody>\n",
       "    <tr>\n",
       "      <th>1</th>\n",
       "      <td>операции с недвижимостью</td>\n",
       "      <td>780</td>\n",
       "      <td>10751</td>\n",
       "      <td>7.26</td>\n",
       "    </tr>\n",
       "    <tr>\n",
       "      <th>3</th>\n",
       "      <td>проведение свадьбы</td>\n",
       "      <td>183</td>\n",
       "      <td>2313</td>\n",
       "      <td>7.91</td>\n",
       "    </tr>\n",
       "    <tr>\n",
       "      <th>2</th>\n",
       "      <td>получение образования</td>\n",
       "      <td>369</td>\n",
       "      <td>3988</td>\n",
       "      <td>9.25</td>\n",
       "    </tr>\n",
       "    <tr>\n",
       "      <th>0</th>\n",
       "      <td>операции с автомобилем</td>\n",
       "      <td>400</td>\n",
       "      <td>4279</td>\n",
       "      <td>9.35</td>\n",
       "    </tr>\n",
       "  </tbody>\n",
       "</table>\n",
       "</div>"
      ],
      "text/plain": [
       "               Цели кредита  Количество должников  Клиентов в категории  \\\n",
       "1  операции с недвижимостью                   780                 10751   \n",
       "3        проведение свадьбы                   183                  2313   \n",
       "2     получение образования                   369                  3988   \n",
       "0    операции с автомобилем                   400                  4279   \n",
       "\n",
       "   Процент просроченных платежей по категории  \n",
       "1                                        7.26  \n",
       "3                                        7.91  \n",
       "2                                        9.25  \n",
       "0                                        9.35  "
      ]
     },
     "metadata": {},
     "output_type": "display_data"
    }
   ],
   "source": [
    "try:\n",
    "    # получаем dataframe с сортировкой по столбцу 'purpose_category'\n",
    "    purpose_category_debt_df = pivot_table_ref('purpose_category')\n",
    "    # добавим разметку для полученных данных\n",
    "    purpose_category_debt_df = purpose_category_debt_df.set_axis(['Цели кредита', 'Количество должников', 'Клиентов в категории', 'Процент просроченных платежей по категории'], axis='columns')\n",
    "    purpose_category_debt_df = purpose_category_debt_df.sort_values(by='Процент просроченных платежей по категории', ascending=True) \n",
    "    # выведем результат\n",
    "    display(purpose_category_debt_df)\n",
    "except:\n",
    "    print('С данными что-то не так, обратите на это внимание')"
   ]
  },
  {
   "cell_type": "code",
   "execution_count": 37,
   "id": "d421869b",
   "metadata": {},
   "outputs": [
    {
     "data": {
      "image/png": "[encoded data removed]",
      "text/plain": [
       "<Figure size 432x288 with 1 Axes>"
      ]
     },
     "metadata": {},
     "output_type": "display_data"
    }
   ],
   "source": [
    "try:\n",
    "    # используем для отображения результатов график зависимостей \n",
    "    plt.xticks(rotation=90)\n",
    "    sns_purpose_category_barplot_show = sns.barplot(y='Процент просроченных платежей по категории', x='Цели кредита', data=purpose_category_debt_df, palette='Blues_r')\n",
    "    sns_purpose_category_barplot_show.set(ylabel='Процент просроченных платежей', xlabel='Цели кредита', title='Влияние целей кредита на возврат займа в срок')\n",
    "    sns_purpose_category_barplot_show;\n",
    "except:\n",
    "    print('С данными что-то не так, обратите на это внимание')"
   ]
  },
  {
   "cell_type": "markdown",
   "id": "cf05ed63",
   "metadata": {
    "deletable": false,
    "id": "cf05ed63"
   },
   "source": [
    "**Вывод:** Анализируя эти данные обратим внимание на то, что данные делятся на две группы, в которых значения максимально близки друг к другу. Так займ на недвижимость и на свадьбу имеют процент по просроченным платежам 7.26 и 7.91, а займ на образование и авто имеют 9.25 и 9.35 соответственно. \n",
    "\n",
    "Можно прийти к выводу, что на процент по выплатам влияет характер важности покупки для клиента. Из этих же данных можно выделить две основные группы по важности для клиента — это то, что клиент планирует оставить с собой на всю жизнь: недвижимость и семья, и то, что клиент может заменить в любой момент: образование и авто."
   ]
  },
  {
   "cell_type": "markdown",
   "id": "46c1f10b",
   "metadata": {
    "deletable": false,
    "editable": false,
    "id": "46c1f10b"
   },
   "source": [
    "#### 3.5 Приведите возможные причины появления пропусков в исходных данных."
   ]
  },
  {
   "cell_type": "markdown",
   "id": "3697d2a9",
   "metadata": {
    "deletable": false,
    "id": "3697d2a9"
   },
   "source": []
  },
  {
   "cell_type": "markdown",
   "id": "4d7fd3e6",
   "metadata": {},
   "source": [
    "*Ответ:* Количество пропусков, а также строки в которых есть пропуски в столбце о трудовом стаже и в столбце о доходах — совпадают, в каждом столбце пропущено по 2174 значения. Пропуски могли появиться по многим причинам, вот, например, некоторые из них: \n",
    "- Данные не были предоставлены заявителем, \n",
    "- Произошел технический сбой и данные не были записаны изначально или были повреждены,\n",
    "- Данные могли быть удалены во время обработки сотрудниками, \n",
    "- Ошибки при обслуживании БД могли привести к частичной потере данных. "
   ]
  },
  {
   "cell_type": "markdown",
   "id": "3137d257",
   "metadata": {
    "deletable": false,
    "editable": false,
    "id": "3137d257"
   },
   "source": [
    "#### 3.6 Объясните, почему заполнить пропуски медианным значением — лучшее решение для количественных переменных."
   ]
  },
  {
   "cell_type": "markdown",
   "id": "cf40012a",
   "metadata": {
    "deletable": false,
    "id": "cf40012a"
   },
   "source": [
    "*Ответ:* В иследуемых данных, пропуски составляли 10.1% от общего количества. В случае использования таких данных результат будет сильно искажен и чтобы не допустить таких проблем, мы заполняем пропуски медианными значениями. Медианное значение один из лучших вариантов, так как медиана является устойчивой мерой центральной тенденции и не чувствительна к наличию выбросов в данных, в отличие от среднего значения."
   ]
  },
  {
   "cell_type": "markdown",
   "id": "57bc304e",
   "metadata": {
    "deletable": false,
    "editable": false,
    "id": "57bc304e"
   },
   "source": [
    "### Шаг 4: общий вывод."
   ]
  },
  {
   "cell_type": "markdown",
   "id": "1ab75d1c",
   "metadata": {
    "deletable": false,
    "id": "1ab75d1c"
   },
   "source": [
    "Напишите ваш общий вывод."
   ]
  },
  {
   "cell_type": "markdown",
   "id": "0b39a21b",
   "metadata": {},
   "source": [
    "В первой части проекта была выполнена важная работа по предварительной обработке данных. Были заполнены пропуски и исправлены неправильные значения. Были добавлены новые классификации для клиентов, что позволило лучше понять их профиль и цели кредитования. Это позволит далее провести более точный анализ данных и ответить на поставленные вопросы. Вторая часть проекта была посвящена анализу зависимостей между данными и изучению природы этих данных.\n",
    "\n",
    "Во второй части были рассмотрены вопросы поставленные бизнесом. И можно сделать следующие выводы: \n",
    "\n",
    "1. Зависимость между количеством детей и возвратом кредита в срок не обнаружена. Процент просроченных платежей у клиентов без детей - 7,54%, у клиентов с одним ребенком - 9,23%, у клиентов с двумя детьми - 9,45%. При анализе выборки клиентов с тремя и более детьми выборка становится недостаточно большой для получения достоверных выводов.\n",
    "\n",
    "2. Семейное положение оказывает влияние на возврат кредита в срок. Клиенты без партнера (не женат/не замужем) имеют наибольший процент просроченных кредитов (9,8%), тогда как вдовствующие клиенты имеют наименьший процент (6,6%). В градации между этими категориями процент просроченных кредитов пропорционально уменьшается. Категории в гражданском браке, женатых/замужних и в разводе имеют соответственно более низкие проценты просроченных кредитов.\n",
    "\n",
    "3. Исходя из полученных данных, трудно сделать вывод о наличии связи между уровнем дохода и своевременным возвратом кредита. Это может быть связано с тем, что количество клиентов с очень высоким и очень низким доходами (категории A, D и E) недостаточно значительно для анализа и оценки полной картины.\n",
    "\n",
    "4. Данные показывают, что займы на недвижимость и свадьбу имеют меньший процент просрочек, чем займы на образование и автомобиль. Это может объясняться тем, что для клиентов покупка недвижимости и свадьба являются важными жизненными событиями, которые они планируют сохранить на всю жизнь, в то время как образование и автомобиль можно заменить в любой момент.\n",
    "\n",
    "Что касается вопросов, в которых недостаточно данных для корректного анализа. Результат, который можно было бы применить в решении бизнес-задач, гарантируется только при достаточно полном объеме данных, которые используются для анализа. \n",
    "\n",
    "Для анализа первого вопроса не хватило данных о семьях с тремя детьми и более, что дало не совсем корректный результат и как следствие невозможность использовать эти данные в работе. В этом случае, в будущем, рекомендуется делать выборку для анализа более масштабной, либо более отражающей долевое распределение клиентов по этому параметру. \n",
    "\n",
    "В третьем вопросе максимально выделяется группа со средним доходом и из-за этого корректно анализировать данные становится проблематично, это из-за того, что в изначальных данных был большой пропуск в данных по заработку клиентов и данные были заполнены медианным значением и вероятнее всего это привело к таким результатам. Во избежание подобного данные лучше всего хранить на надежных носителях и с ограниченным доступом, чтобы избежать как технических проблем, так и проблем человеческого фактора. "
   ]
  },
  {
   "cell_type": "code",
   "execution_count": null,
   "id": "17584f10",
   "metadata": {},
   "outputs": [],
   "source": []
  }
 ],
 "metadata": {
  "ExecuteTimeLog": [
   {
    "duration": 49,
    "start_time": "2023-03-01T00:25:51.939Z"
   },
   {
    "duration": 504,
    "start_time": "2023-03-01T00:26:03.410Z"
   },
   {
    "duration": 22,
    "start_time": "2023-03-01T00:26:03.916Z"
   },
   {
    "duration": 16,
    "start_time": "2023-03-01T00:26:03.940Z"
   },
   {
    "duration": 10,
    "start_time": "2023-03-01T00:26:03.957Z"
   },
   {
    "duration": 56,
    "start_time": "2023-03-01T00:26:03.970Z"
   },
   {
    "duration": 4,
    "start_time": "2023-03-01T00:26:04.028Z"
   },
   {
    "duration": 11,
    "start_time": "2023-03-01T00:26:04.034Z"
   },
   {
    "duration": 4,
    "start_time": "2023-03-01T00:26:04.047Z"
   },
   {
    "duration": 13,
    "start_time": "2023-03-01T00:26:04.053Z"
   },
   {
    "duration": 7,
    "start_time": "2023-03-01T00:26:04.067Z"
   },
   {
    "duration": 58,
    "start_time": "2023-03-01T00:26:04.076Z"
   },
   {
    "duration": 11,
    "start_time": "2023-03-01T00:26:04.136Z"
   },
   {
    "duration": 4,
    "start_time": "2023-03-01T00:26:04.148Z"
   },
   {
    "duration": 28,
    "start_time": "2023-03-01T00:26:04.154Z"
   },
   {
    "duration": 23,
    "start_time": "2023-03-01T00:26:04.184Z"
   },
   {
    "duration": 19,
    "start_time": "2023-03-01T00:26:04.223Z"
   },
   {
    "duration": 4,
    "start_time": "2023-03-01T00:26:04.243Z"
   },
   {
    "duration": 18,
    "start_time": "2023-03-01T00:26:04.249Z"
   },
   {
    "duration": 11,
    "start_time": "2023-03-01T00:26:04.269Z"
   },
   {
    "duration": 6,
    "start_time": "2023-03-01T00:26:04.281Z"
   },
   {
    "duration": 15,
    "start_time": "2023-03-01T00:26:04.289Z"
   },
   {
    "duration": 18,
    "start_time": "2023-03-01T00:26:04.305Z"
   },
   {
    "duration": 6,
    "start_time": "2023-03-01T00:26:04.325Z"
   },
   {
    "duration": 4,
    "start_time": "2023-03-01T00:26:04.333Z"
   },
   {
    "duration": 6,
    "start_time": "2023-03-01T00:26:04.339Z"
   },
   {
    "duration": 14,
    "start_time": "2023-03-01T00:26:08.538Z"
   },
   {
    "duration": 513,
    "start_time": "2023-03-02T18:23:05.068Z"
   },
   {
    "duration": 23,
    "start_time": "2023-03-02T18:23:05.583Z"
   },
   {
    "duration": 15,
    "start_time": "2023-03-02T18:23:05.608Z"
   },
   {
    "duration": 11,
    "start_time": "2023-03-02T18:23:05.625Z"
   },
   {
    "duration": 41,
    "start_time": "2023-03-02T18:23:05.637Z"
   },
   {
    "duration": 3,
    "start_time": "2023-03-02T18:23:05.680Z"
   },
   {
    "duration": 13,
    "start_time": "2023-03-02T18:23:05.685Z"
   },
   {
    "duration": 6,
    "start_time": "2023-03-02T18:23:05.699Z"
   },
   {
    "duration": 22,
    "start_time": "2023-03-02T18:23:05.707Z"
   },
   {
    "duration": 4,
    "start_time": "2023-03-02T18:23:05.732Z"
   },
   {
    "duration": 34,
    "start_time": "2023-03-02T18:23:05.738Z"
   },
   {
    "duration": 10,
    "start_time": "2023-03-02T18:23:05.774Z"
   },
   {
    "duration": 5,
    "start_time": "2023-03-02T18:23:05.786Z"
   },
   {
    "duration": 32,
    "start_time": "2023-03-02T18:23:05.793Z"
   },
   {
    "duration": 19,
    "start_time": "2023-03-02T18:23:05.827Z"
   },
   {
    "duration": 18,
    "start_time": "2023-03-02T18:23:05.848Z"
   },
   {
    "duration": 4,
    "start_time": "2023-03-02T18:23:05.867Z"
   },
   {
    "duration": 19,
    "start_time": "2023-03-02T18:23:05.873Z"
   },
   {
    "duration": 6,
    "start_time": "2023-03-02T18:23:05.894Z"
   },
   {
    "duration": 29,
    "start_time": "2023-03-02T18:23:05.924Z"
   },
   {
    "duration": 47,
    "start_time": "2023-03-02T18:23:05.955Z"
   },
   {
    "duration": 13,
    "start_time": "2023-03-02T18:23:06.004Z"
   },
   {
    "duration": 9,
    "start_time": "2023-03-02T18:23:06.018Z"
   },
   {
    "duration": 14,
    "start_time": "2023-03-02T18:23:06.028Z"
   },
   {
    "duration": 27,
    "start_time": "2023-03-02T18:23:06.044Z"
   },
   {
    "duration": 48,
    "start_time": "2023-03-06T01:03:28.215Z"
   },
   {
    "duration": 643,
    "start_time": "2023-03-06T01:03:36.598Z"
   },
   {
    "duration": 22,
    "start_time": "2023-03-06T01:03:37.243Z"
   },
   {
    "duration": 14,
    "start_time": "2023-03-06T01:03:37.266Z"
   },
   {
    "duration": 17,
    "start_time": "2023-03-06T01:03:37.282Z"
   },
   {
    "duration": 53,
    "start_time": "2023-03-06T01:03:37.301Z"
   },
   {
    "duration": 4,
    "start_time": "2023-03-06T01:03:37.355Z"
   },
   {
    "duration": 11,
    "start_time": "2023-03-06T01:03:37.360Z"
   },
   {
    "duration": 16,
    "start_time": "2023-03-06T01:03:37.373Z"
   },
   {
    "duration": 9,
    "start_time": "2023-03-06T01:03:37.391Z"
   },
   {
    "duration": 4,
    "start_time": "2023-03-06T01:03:37.403Z"
   },
   {
    "duration": 59,
    "start_time": "2023-03-06T01:03:37.408Z"
   },
   {
    "duration": 9,
    "start_time": "2023-03-06T01:03:37.469Z"
   },
   {
    "duration": 7,
    "start_time": "2023-03-06T01:03:37.479Z"
   },
   {
    "duration": 17,
    "start_time": "2023-03-06T01:03:37.487Z"
   },
   {
    "duration": 26,
    "start_time": "2023-03-06T01:03:37.506Z"
   },
   {
    "duration": 25,
    "start_time": "2023-03-06T01:03:37.534Z"
   },
   {
    "duration": 4,
    "start_time": "2023-03-06T01:03:37.561Z"
   },
   {
    "duration": 14,
    "start_time": "2023-03-06T01:03:37.567Z"
   },
   {
    "duration": 9,
    "start_time": "2023-03-06T01:03:37.583Z"
   },
   {
    "duration": 6,
    "start_time": "2023-03-06T01:03:37.594Z"
   },
   {
    "duration": 12,
    "start_time": "2023-03-06T01:03:37.602Z"
   },
   {
    "duration": 108,
    "start_time": "2023-03-06T01:03:37.616Z"
   },
   {
    "duration": 0,
    "start_time": "2023-03-06T01:03:37.726Z"
   },
   {
    "duration": 0,
    "start_time": "2023-03-06T01:03:37.728Z"
   },
   {
    "duration": 0,
    "start_time": "2023-03-06T01:03:37.729Z"
   },
   {
    "duration": 0,
    "start_time": "2023-03-06T01:03:37.731Z"
   },
   {
    "duration": 948,
    "start_time": "2023-03-06T01:05:11.301Z"
   },
   {
    "duration": 79,
    "start_time": "2023-03-06T01:05:43.070Z"
   },
   {
    "duration": 6,
    "start_time": "2023-03-06T01:06:09.550Z"
   },
   {
    "duration": 16,
    "start_time": "2023-03-06T01:07:07.129Z"
   },
   {
    "duration": 134,
    "start_time": "2023-03-06T01:08:06.524Z"
   },
   {
    "duration": 88,
    "start_time": "2023-03-06T01:09:24.568Z"
   },
   {
    "duration": 16,
    "start_time": "2023-03-06T01:09:41.841Z"
   },
   {
    "duration": 145,
    "start_time": "2023-03-06T01:10:42.431Z"
   },
   {
    "duration": 23,
    "start_time": "2023-03-06T01:11:37.096Z"
   },
   {
    "duration": 126,
    "start_time": "2023-03-06T01:12:06.122Z"
   },
   {
    "duration": 25,
    "start_time": "2023-03-06T01:13:07.089Z"
   },
   {
    "duration": 158,
    "start_time": "2023-03-06T01:13:38.295Z"
   },
   {
    "duration": 473,
    "start_time": "2023-03-06T22:29:50.736Z"
   },
   {
    "duration": 21,
    "start_time": "2023-03-06T22:29:51.211Z"
   },
   {
    "duration": 14,
    "start_time": "2023-03-06T22:29:51.233Z"
   },
   {
    "duration": 29,
    "start_time": "2023-03-06T22:29:51.248Z"
   },
   {
    "duration": 35,
    "start_time": "2023-03-06T22:29:51.279Z"
   },
   {
    "duration": 3,
    "start_time": "2023-03-06T22:29:51.316Z"
   },
   {
    "duration": 12,
    "start_time": "2023-03-06T22:29:51.321Z"
   },
   {
    "duration": 5,
    "start_time": "2023-03-06T22:29:51.335Z"
   },
   {
    "duration": 29,
    "start_time": "2023-03-06T22:29:51.341Z"
   },
   {
    "duration": 9,
    "start_time": "2023-03-06T22:29:51.374Z"
   },
   {
    "duration": 34,
    "start_time": "2023-03-06T22:29:51.385Z"
   },
   {
    "duration": 10,
    "start_time": "2023-03-06T22:29:51.420Z"
   },
   {
    "duration": 11,
    "start_time": "2023-03-06T22:29:51.431Z"
   },
   {
    "duration": 26,
    "start_time": "2023-03-06T22:29:51.443Z"
   },
   {
    "duration": 19,
    "start_time": "2023-03-06T22:29:51.471Z"
   },
   {
    "duration": 16,
    "start_time": "2023-03-06T22:29:51.492Z"
   },
   {
    "duration": 4,
    "start_time": "2023-03-06T22:29:51.509Z"
   },
   {
    "duration": 14,
    "start_time": "2023-03-06T22:29:51.515Z"
   },
   {
    "duration": 6,
    "start_time": "2023-03-06T22:29:51.530Z"
   },
   {
    "duration": 4,
    "start_time": "2023-03-06T22:29:51.537Z"
   },
   {
    "duration": 9,
    "start_time": "2023-03-06T22:29:51.569Z"
   },
   {
    "duration": 721,
    "start_time": "2023-03-06T22:29:51.579Z"
   },
   {
    "duration": 6,
    "start_time": "2023-03-06T22:29:52.302Z"
   },
   {
    "duration": 18,
    "start_time": "2023-03-06T22:29:52.310Z"
   },
   {
    "duration": 39,
    "start_time": "2023-03-06T22:29:52.330Z"
   },
   {
    "duration": 159,
    "start_time": "2023-03-06T22:29:52.371Z"
   },
   {
    "duration": 3,
    "start_time": "2023-03-06T22:29:52.532Z"
   },
   {
    "duration": 32,
    "start_time": "2023-03-06T22:29:52.540Z"
   },
   {
    "duration": 158,
    "start_time": "2023-03-06T22:29:52.574Z"
   },
   {
    "duration": 2,
    "start_time": "2023-03-06T22:29:52.734Z"
   },
   {
    "duration": 31,
    "start_time": "2023-03-06T22:29:52.738Z"
   },
   {
    "duration": 144,
    "start_time": "2023-03-06T22:29:52.771Z"
   },
   {
    "duration": 2,
    "start_time": "2023-03-06T22:29:52.917Z"
   },
   {
    "duration": 26,
    "start_time": "2023-03-06T22:29:52.921Z"
   },
   {
    "duration": 154,
    "start_time": "2023-03-06T22:29:52.949Z"
   },
   {
    "duration": 481,
    "start_time": "2023-03-06T22:32:17.776Z"
   },
   {
    "duration": 21,
    "start_time": "2023-03-06T22:32:18.259Z"
   },
   {
    "duration": 14,
    "start_time": "2023-03-06T22:32:18.282Z"
   },
   {
    "duration": 9,
    "start_time": "2023-03-06T22:32:18.298Z"
   },
   {
    "duration": 41,
    "start_time": "2023-03-06T22:32:18.308Z"
   },
   {
    "duration": 3,
    "start_time": "2023-03-06T22:32:18.350Z"
   },
   {
    "duration": 18,
    "start_time": "2023-03-06T22:32:18.355Z"
   },
   {
    "duration": 7,
    "start_time": "2023-03-06T22:32:18.375Z"
   },
   {
    "duration": 14,
    "start_time": "2023-03-06T22:32:18.384Z"
   },
   {
    "duration": 6,
    "start_time": "2023-03-06T22:32:18.401Z"
   },
   {
    "duration": 40,
    "start_time": "2023-03-06T22:32:18.409Z"
   },
   {
    "duration": 22,
    "start_time": "2023-03-06T22:32:18.451Z"
   },
   {
    "duration": 18,
    "start_time": "2023-03-06T22:32:18.475Z"
   },
   {
    "duration": 12,
    "start_time": "2023-03-06T22:32:18.495Z"
   },
   {
    "duration": 29,
    "start_time": "2023-03-06T22:32:18.509Z"
   },
   {
    "duration": 18,
    "start_time": "2023-03-06T22:32:18.540Z"
   },
   {
    "duration": 10,
    "start_time": "2023-03-06T22:32:18.559Z"
   },
   {
    "duration": 12,
    "start_time": "2023-03-06T22:32:18.571Z"
   },
   {
    "duration": 10,
    "start_time": "2023-03-06T22:32:18.584Z"
   },
   {
    "duration": 6,
    "start_time": "2023-03-06T22:32:18.596Z"
   },
   {
    "duration": 15,
    "start_time": "2023-03-06T22:32:18.603Z"
   },
   {
    "duration": 773,
    "start_time": "2023-03-06T22:32:18.620Z"
   },
   {
    "duration": 6,
    "start_time": "2023-03-06T22:32:19.395Z"
   },
   {
    "duration": 7,
    "start_time": "2023-03-06T22:32:19.402Z"
   },
   {
    "duration": 20,
    "start_time": "2023-03-06T22:32:19.411Z"
   },
   {
    "duration": 154,
    "start_time": "2023-03-06T22:32:19.433Z"
   },
   {
    "duration": 3,
    "start_time": "2023-03-06T22:32:19.588Z"
   },
   {
    "duration": 15,
    "start_time": "2023-03-06T22:32:19.593Z"
   },
   {
    "duration": 159,
    "start_time": "2023-03-06T22:32:19.610Z"
   },
   {
    "duration": 2,
    "start_time": "2023-03-06T22:32:19.771Z"
   },
   {
    "duration": 26,
    "start_time": "2023-03-06T22:32:19.774Z"
   },
   {
    "duration": 139,
    "start_time": "2023-03-06T22:32:19.801Z"
   },
   {
    "duration": 2,
    "start_time": "2023-03-06T22:32:19.942Z"
   },
   {
    "duration": 30,
    "start_time": "2023-03-06T22:32:19.945Z"
   },
   {
    "duration": 144,
    "start_time": "2023-03-06T22:32:19.976Z"
   },
   {
    "duration": 811,
    "start_time": "2023-03-07T00:13:07.956Z"
   },
   {
    "duration": 23,
    "start_time": "2023-03-07T00:13:08.769Z"
   },
   {
    "duration": 15,
    "start_time": "2023-03-07T00:13:08.793Z"
   },
   {
    "duration": 9,
    "start_time": "2023-03-07T00:13:08.809Z"
   },
   {
    "duration": 41,
    "start_time": "2023-03-07T00:13:08.820Z"
   },
   {
    "duration": 4,
    "start_time": "2023-03-07T00:13:08.863Z"
   },
   {
    "duration": 11,
    "start_time": "2023-03-07T00:13:08.869Z"
   },
   {
    "duration": 8,
    "start_time": "2023-03-07T00:13:08.881Z"
   },
   {
    "duration": 14,
    "start_time": "2023-03-07T00:13:08.890Z"
   },
   {
    "duration": 5,
    "start_time": "2023-03-07T00:13:08.906Z"
   },
   {
    "duration": 74,
    "start_time": "2023-03-07T00:13:08.913Z"
   },
   {
    "duration": 9,
    "start_time": "2023-03-07T00:13:08.989Z"
   },
   {
    "duration": 5,
    "start_time": "2023-03-07T00:13:09.000Z"
   },
   {
    "duration": 12,
    "start_time": "2023-03-07T00:13:09.008Z"
   },
   {
    "duration": 43,
    "start_time": "2023-03-07T00:13:09.021Z"
   },
   {
    "duration": 17,
    "start_time": "2023-03-07T00:13:09.066Z"
   },
   {
    "duration": 4,
    "start_time": "2023-03-07T00:13:09.085Z"
   },
   {
    "duration": 12,
    "start_time": "2023-03-07T00:13:09.091Z"
   },
   {
    "duration": 6,
    "start_time": "2023-03-07T00:13:09.105Z"
   },
   {
    "duration": 3,
    "start_time": "2023-03-07T00:13:09.113Z"
   },
   {
    "duration": 27,
    "start_time": "2023-03-07T00:13:09.118Z"
   },
   {
    "duration": 976,
    "start_time": "2023-03-07T00:13:09.150Z"
   },
   {
    "duration": 9,
    "start_time": "2023-03-07T00:13:10.128Z"
   },
   {
    "duration": 28,
    "start_time": "2023-03-07T00:13:10.139Z"
   },
   {
    "duration": 18,
    "start_time": "2023-03-07T00:13:10.168Z"
   },
   {
    "duration": 148,
    "start_time": "2023-03-07T00:13:10.187Z"
   },
   {
    "duration": 3,
    "start_time": "2023-03-07T00:13:10.337Z"
   },
   {
    "duration": 36,
    "start_time": "2023-03-07T00:13:10.342Z"
   },
   {
    "duration": 132,
    "start_time": "2023-03-07T00:13:10.380Z"
   },
   {
    "duration": 2,
    "start_time": "2023-03-07T00:13:10.514Z"
   },
   {
    "duration": 26,
    "start_time": "2023-03-07T00:13:10.517Z"
   },
   {
    "duration": 159,
    "start_time": "2023-03-07T00:13:10.544Z"
   },
   {
    "duration": 3,
    "start_time": "2023-03-07T00:13:10.704Z"
   },
   {
    "duration": 30,
    "start_time": "2023-03-07T00:13:10.708Z"
   },
   {
    "duration": 155,
    "start_time": "2023-03-07T00:13:10.739Z"
   },
   {
    "duration": 1220,
    "start_time": "2023-03-08T00:00:06.520Z"
   },
   {
    "duration": 3,
    "start_time": "2023-03-08T00:10:37.225Z"
   },
   {
    "duration": 96,
    "start_time": "2023-03-08T00:10:58.895Z"
   },
   {
    "duration": 680,
    "start_time": "2023-03-08T00:11:09.222Z"
   },
   {
    "duration": 22,
    "start_time": "2023-03-08T00:11:09.904Z"
   },
   {
    "duration": 15,
    "start_time": "2023-03-08T00:11:09.927Z"
   },
   {
    "duration": 9,
    "start_time": "2023-03-08T00:11:09.944Z"
   },
   {
    "duration": 48,
    "start_time": "2023-03-08T00:11:09.956Z"
   },
   {
    "duration": 4,
    "start_time": "2023-03-08T00:11:10.006Z"
   },
   {
    "duration": 11,
    "start_time": "2023-03-08T00:11:10.011Z"
   },
   {
    "duration": 11,
    "start_time": "2023-03-08T00:11:10.024Z"
   },
   {
    "duration": 12,
    "start_time": "2023-03-08T00:11:10.036Z"
   },
   {
    "duration": 5,
    "start_time": "2023-03-08T00:11:10.049Z"
   },
   {
    "duration": 48,
    "start_time": "2023-03-08T00:11:10.055Z"
   },
   {
    "duration": 10,
    "start_time": "2023-03-08T00:11:10.105Z"
   },
   {
    "duration": 4,
    "start_time": "2023-03-08T00:11:10.116Z"
   },
   {
    "duration": 25,
    "start_time": "2023-03-08T00:11:10.123Z"
   },
   {
    "duration": 36,
    "start_time": "2023-03-08T00:11:10.150Z"
   },
   {
    "duration": 17,
    "start_time": "2023-03-08T00:11:10.187Z"
   },
   {
    "duration": 4,
    "start_time": "2023-03-08T00:11:10.205Z"
   },
   {
    "duration": 13,
    "start_time": "2023-03-08T00:11:10.211Z"
   },
   {
    "duration": 17,
    "start_time": "2023-03-08T00:11:10.226Z"
   },
   {
    "duration": 6,
    "start_time": "2023-03-08T00:11:10.246Z"
   },
   {
    "duration": 29,
    "start_time": "2023-03-08T00:11:10.254Z"
   },
   {
    "duration": 718,
    "start_time": "2023-03-08T00:11:10.285Z"
   },
   {
    "duration": 3,
    "start_time": "2023-03-08T00:11:11.005Z"
   },
   {
    "duration": 17,
    "start_time": "2023-03-08T00:11:11.009Z"
   },
   {
    "duration": 16,
    "start_time": "2023-03-08T00:11:11.028Z"
   },
   {
    "duration": 16,
    "start_time": "2023-03-08T00:11:11.045Z"
   },
   {
    "duration": 144,
    "start_time": "2023-03-08T00:11:11.063Z"
   },
   {
    "duration": 2,
    "start_time": "2023-03-08T00:11:11.209Z"
   },
   {
    "duration": 16,
    "start_time": "2023-03-08T00:11:11.212Z"
   },
   {
    "duration": 153,
    "start_time": "2023-03-08T00:11:11.230Z"
   },
   {
    "duration": 2,
    "start_time": "2023-03-08T00:11:11.384Z"
   },
   {
    "duration": 18,
    "start_time": "2023-03-08T00:11:11.388Z"
   },
   {
    "duration": 147,
    "start_time": "2023-03-08T00:11:11.407Z"
   },
   {
    "duration": 2,
    "start_time": "2023-03-08T00:11:11.556Z"
   },
   {
    "duration": 34,
    "start_time": "2023-03-08T00:11:11.560Z"
   },
   {
    "duration": 148,
    "start_time": "2023-03-08T00:11:11.596Z"
   },
   {
    "duration": 5,
    "start_time": "2023-03-08T00:12:33.121Z"
   },
   {
    "duration": 49,
    "start_time": "2023-03-08T00:13:23.930Z"
   },
   {
    "duration": 114,
    "start_time": "2023-03-08T00:14:24.749Z"
   },
   {
    "duration": 125,
    "start_time": "2023-03-08T00:14:39.694Z"
   },
   {
    "duration": 3,
    "start_time": "2023-03-08T00:14:45.714Z"
   },
   {
    "duration": 3,
    "start_time": "2023-03-08T00:14:51.965Z"
   },
   {
    "duration": 32,
    "start_time": "2023-03-08T00:14:52.999Z"
   },
   {
    "duration": 131,
    "start_time": "2023-03-08T00:14:55.599Z"
   },
   {
    "duration": 4,
    "start_time": "2023-03-08T00:15:06.814Z"
   },
   {
    "duration": 48,
    "start_time": "2023-03-08T00:15:16.298Z"
   },
   {
    "duration": 135,
    "start_time": "2023-03-08T00:15:20.252Z"
   },
   {
    "duration": 18,
    "start_time": "2023-03-08T00:16:12.841Z"
   },
   {
    "duration": 148,
    "start_time": "2023-03-08T00:16:19.892Z"
   },
   {
    "duration": 3,
    "start_time": "2023-03-08T00:17:06.924Z"
   },
   {
    "duration": 152,
    "start_time": "2023-03-08T00:17:10.960Z"
   },
   {
    "duration": 76,
    "start_time": "2023-03-08T00:18:49.185Z"
   },
   {
    "duration": 36,
    "start_time": "2023-03-08T00:20:05.652Z"
   },
   {
    "duration": 193,
    "start_time": "2023-03-08T00:20:31.946Z"
   },
   {
    "duration": 34,
    "start_time": "2023-03-08T00:21:30.179Z"
   },
   {
    "duration": 148,
    "start_time": "2023-03-08T00:21:46.734Z"
   },
   {
    "duration": 38,
    "start_time": "2023-03-08T00:22:42.132Z"
   },
   {
    "duration": 142,
    "start_time": "2023-03-08T00:22:52.693Z"
   },
   {
    "duration": 39,
    "start_time": "2023-03-08T00:42:11.978Z"
   },
   {
    "duration": 140,
    "start_time": "2023-03-08T00:42:14.808Z"
   },
   {
    "duration": 35,
    "start_time": "2023-03-08T01:12:23.269Z"
   },
   {
    "duration": 140,
    "start_time": "2023-03-08T01:12:26.681Z"
   },
   {
    "duration": 40,
    "start_time": "2023-03-08T01:12:44.332Z"
   },
   {
    "duration": 38,
    "start_time": "2023-03-08T01:12:55.336Z"
   },
   {
    "duration": 35,
    "start_time": "2023-03-08T01:13:08.883Z"
   },
   {
    "duration": 28,
    "start_time": "2023-03-08T01:35:54.191Z"
   },
   {
    "duration": 32,
    "start_time": "2023-03-08T01:36:22.724Z"
   },
   {
    "duration": 4,
    "start_time": "2023-03-08T01:36:45.223Z"
   },
   {
    "duration": 34,
    "start_time": "2023-03-08T01:36:47.913Z"
   },
   {
    "duration": 3,
    "start_time": "2023-03-08T01:37:23.083Z"
   },
   {
    "duration": 32,
    "start_time": "2023-03-08T01:37:25.736Z"
   },
   {
    "duration": 131,
    "start_time": "2023-03-08T01:38:35.350Z"
   },
   {
    "duration": 135,
    "start_time": "2023-03-08T01:38:46.748Z"
   },
   {
    "duration": 142,
    "start_time": "2023-03-08T01:38:57.132Z"
   },
   {
    "duration": 135,
    "start_time": "2023-03-08T01:39:05.098Z"
   },
   {
    "duration": 39,
    "start_time": "2023-03-08T01:39:17.217Z"
   },
   {
    "duration": 121,
    "start_time": "2023-03-08T01:39:19.566Z"
   },
   {
    "duration": 143,
    "start_time": "2023-03-08T01:39:41.349Z"
   },
   {
    "duration": 152,
    "start_time": "2023-03-08T01:39:53.478Z"
   },
   {
    "duration": 36,
    "start_time": "2023-03-08T01:40:11.626Z"
   },
   {
    "duration": 202,
    "start_time": "2023-03-08T01:40:24.432Z"
   },
   {
    "duration": 38,
    "start_time": "2023-03-08T01:40:32.244Z"
   },
   {
    "duration": 136,
    "start_time": "2023-03-08T01:40:38.304Z"
   },
   {
    "duration": 124,
    "start_time": "2023-03-08T01:45:42.858Z"
   },
   {
    "duration": 39,
    "start_time": "2023-03-08T01:46:09.760Z"
   },
   {
    "duration": 127,
    "start_time": "2023-03-08T01:47:34.571Z"
   },
   {
    "duration": 141,
    "start_time": "2023-03-08T01:47:44.816Z"
   },
   {
    "duration": 39,
    "start_time": "2023-03-08T01:48:21.310Z"
   },
   {
    "duration": 132,
    "start_time": "2023-03-08T01:48:23.473Z"
   },
   {
    "duration": 35,
    "start_time": "2023-03-08T01:48:38.314Z"
   },
   {
    "duration": 128,
    "start_time": "2023-03-08T01:48:41.676Z"
   },
   {
    "duration": 478,
    "start_time": "2023-03-08T02:56:31.061Z"
   },
   {
    "duration": 20,
    "start_time": "2023-03-08T02:56:31.541Z"
   },
   {
    "duration": 29,
    "start_time": "2023-03-08T02:56:31.563Z"
   },
   {
    "duration": 29,
    "start_time": "2023-03-08T02:56:31.594Z"
   },
   {
    "duration": 56,
    "start_time": "2023-03-08T02:56:31.624Z"
   },
   {
    "duration": 8,
    "start_time": "2023-03-08T02:56:31.681Z"
   },
   {
    "duration": 41,
    "start_time": "2023-03-08T02:56:31.690Z"
   },
   {
    "duration": 17,
    "start_time": "2023-03-08T02:56:31.733Z"
   },
   {
    "duration": 38,
    "start_time": "2023-03-08T02:56:31.751Z"
   },
   {
    "duration": 11,
    "start_time": "2023-03-08T02:56:31.793Z"
   },
   {
    "duration": 60,
    "start_time": "2023-03-08T02:56:31.806Z"
   },
   {
    "duration": 8,
    "start_time": "2023-03-08T02:56:31.868Z"
   },
   {
    "duration": 26,
    "start_time": "2023-03-08T02:56:31.877Z"
   },
   {
    "duration": 43,
    "start_time": "2023-03-08T02:56:31.905Z"
   },
   {
    "duration": 42,
    "start_time": "2023-03-08T02:56:31.950Z"
   },
   {
    "duration": 17,
    "start_time": "2023-03-08T02:56:31.993Z"
   },
   {
    "duration": 4,
    "start_time": "2023-03-08T02:56:32.011Z"
   },
   {
    "duration": 13,
    "start_time": "2023-03-08T02:56:32.016Z"
   },
   {
    "duration": 8,
    "start_time": "2023-03-08T02:56:32.031Z"
   },
   {
    "duration": 6,
    "start_time": "2023-03-08T02:56:32.040Z"
   },
   {
    "duration": 10,
    "start_time": "2023-03-08T02:56:32.048Z"
   },
   {
    "duration": 709,
    "start_time": "2023-03-08T02:56:32.059Z"
   },
   {
    "duration": 4,
    "start_time": "2023-03-08T02:56:32.769Z"
   },
   {
    "duration": 9,
    "start_time": "2023-03-08T02:56:32.774Z"
   },
   {
    "duration": 7,
    "start_time": "2023-03-08T02:56:32.784Z"
   },
   {
    "duration": 6,
    "start_time": "2023-03-08T02:56:32.792Z"
   },
   {
    "duration": 41,
    "start_time": "2023-03-08T02:56:32.799Z"
   },
   {
    "duration": 156,
    "start_time": "2023-03-08T02:56:32.844Z"
   },
   {
    "duration": 2,
    "start_time": "2023-03-08T02:56:33.002Z"
   },
   {
    "duration": 39,
    "start_time": "2023-03-08T02:56:33.006Z"
   },
   {
    "duration": 162,
    "start_time": "2023-03-08T02:56:33.047Z"
   },
   {
    "duration": 2,
    "start_time": "2023-03-08T02:56:33.210Z"
   },
   {
    "duration": 38,
    "start_time": "2023-03-08T02:56:33.214Z"
   },
   {
    "duration": 141,
    "start_time": "2023-03-08T02:56:33.253Z"
   },
   {
    "duration": 3,
    "start_time": "2023-03-08T02:56:33.395Z"
   },
   {
    "duration": 45,
    "start_time": "2023-03-08T02:56:33.399Z"
   },
   {
    "duration": 152,
    "start_time": "2023-03-08T02:56:33.445Z"
   },
   {
    "duration": 110,
    "start_time": "2023-03-08T02:59:06.618Z"
   },
   {
    "duration": 5,
    "start_time": "2023-03-08T02:59:49.517Z"
   },
   {
    "duration": 6,
    "start_time": "2023-03-08T03:00:04.399Z"
   },
   {
    "duration": 6,
    "start_time": "2023-03-08T03:01:12.013Z"
   },
   {
    "duration": 4,
    "start_time": "2023-03-08T03:01:15.488Z"
   },
   {
    "duration": 11,
    "start_time": "2023-03-08T03:01:20.294Z"
   },
   {
    "duration": 3,
    "start_time": "2023-03-08T03:01:59.106Z"
   },
   {
    "duration": 10,
    "start_time": "2023-03-08T03:02:02.455Z"
   },
   {
    "duration": 32,
    "start_time": "2023-03-08T03:02:10.720Z"
   },
   {
    "duration": 4,
    "start_time": "2023-03-08T03:03:03.106Z"
   },
   {
    "duration": 12,
    "start_time": "2023-03-08T03:03:51.381Z"
   },
   {
    "duration": 13,
    "start_time": "2023-03-08T03:03:56.925Z"
   },
   {
    "duration": 3,
    "start_time": "2023-03-08T03:04:18.099Z"
   },
   {
    "duration": 28,
    "start_time": "2023-03-08T03:04:23.615Z"
   },
   {
    "duration": 27,
    "start_time": "2023-03-08T03:04:27.629Z"
   },
   {
    "duration": 30,
    "start_time": "2023-03-08T03:04:40.666Z"
   },
   {
    "duration": 37,
    "start_time": "2023-03-08T03:05:11.275Z"
   },
   {
    "duration": 146,
    "start_time": "2023-03-08T03:05:32.960Z"
   },
   {
    "duration": 127,
    "start_time": "2023-03-08T03:06:32.386Z"
   },
   {
    "duration": 5,
    "start_time": "2023-03-08T03:06:38.285Z"
   },
   {
    "duration": 4,
    "start_time": "2023-03-08T03:06:40.209Z"
   },
   {
    "duration": 35,
    "start_time": "2023-03-08T03:06:44.631Z"
   },
   {
    "duration": 127,
    "start_time": "2023-03-08T03:06:47.025Z"
   },
   {
    "duration": 49,
    "start_time": "2023-03-08T03:07:11.327Z"
   },
   {
    "duration": 139,
    "start_time": "2023-03-08T03:07:22.441Z"
   },
   {
    "duration": 407,
    "start_time": "2023-03-08T03:07:35.328Z"
   },
   {
    "duration": 20,
    "start_time": "2023-03-08T03:07:35.736Z"
   },
   {
    "duration": 13,
    "start_time": "2023-03-08T03:07:35.758Z"
   },
   {
    "duration": 9,
    "start_time": "2023-03-08T03:07:35.773Z"
   },
   {
    "duration": 30,
    "start_time": "2023-03-08T03:07:35.783Z"
   },
   {
    "duration": 3,
    "start_time": "2023-03-08T03:07:35.814Z"
   },
   {
    "duration": 9,
    "start_time": "2023-03-08T03:07:35.819Z"
   },
   {
    "duration": 4,
    "start_time": "2023-03-08T03:07:35.830Z"
   },
   {
    "duration": 12,
    "start_time": "2023-03-08T03:07:35.835Z"
   },
   {
    "duration": 3,
    "start_time": "2023-03-08T03:07:35.849Z"
   },
   {
    "duration": 44,
    "start_time": "2023-03-08T03:07:35.880Z"
   },
   {
    "duration": 11,
    "start_time": "2023-03-08T03:07:35.926Z"
   },
   {
    "duration": 8,
    "start_time": "2023-03-08T03:07:35.939Z"
   },
   {
    "duration": 36,
    "start_time": "2023-03-08T03:07:35.948Z"
   },
   {
    "duration": 36,
    "start_time": "2023-03-08T03:07:35.986Z"
   },
   {
    "duration": 20,
    "start_time": "2023-03-08T03:07:36.023Z"
   },
   {
    "duration": 4,
    "start_time": "2023-03-08T03:07:36.045Z"
   },
   {
    "duration": 32,
    "start_time": "2023-03-08T03:07:36.051Z"
   },
   {
    "duration": 31,
    "start_time": "2023-03-08T03:07:36.084Z"
   },
   {
    "duration": 3,
    "start_time": "2023-03-08T03:07:36.117Z"
   },
   {
    "duration": 18,
    "start_time": "2023-03-08T03:07:36.121Z"
   },
   {
    "duration": 726,
    "start_time": "2023-03-08T03:07:36.141Z"
   },
   {
    "duration": 3,
    "start_time": "2023-03-08T03:07:36.868Z"
   },
   {
    "duration": 10,
    "start_time": "2023-03-08T03:07:36.872Z"
   },
   {
    "duration": 147,
    "start_time": "2023-03-08T03:07:36.883Z"
   },
   {
    "duration": 96,
    "start_time": "2023-03-08T03:07:37.031Z"
   },
   {
    "duration": 38,
    "start_time": "2023-03-08T03:07:37.129Z"
   },
   {
    "duration": 141,
    "start_time": "2023-03-08T03:07:37.170Z"
   },
   {
    "duration": 2,
    "start_time": "2023-03-08T03:07:37.313Z"
   },
   {
    "duration": 49,
    "start_time": "2023-03-08T03:07:37.317Z"
   },
   {
    "duration": 156,
    "start_time": "2023-03-08T03:07:37.379Z"
   },
   {
    "duration": 2,
    "start_time": "2023-03-08T03:07:37.537Z"
   },
   {
    "duration": 46,
    "start_time": "2023-03-08T03:07:37.540Z"
   },
   {
    "duration": 132,
    "start_time": "2023-03-08T03:07:37.587Z"
   },
   {
    "duration": 2,
    "start_time": "2023-03-08T03:07:37.720Z"
   },
   {
    "duration": 44,
    "start_time": "2023-03-08T03:07:37.724Z"
   },
   {
    "duration": 137,
    "start_time": "2023-03-08T03:07:37.779Z"
   },
   {
    "duration": 515,
    "start_time": "2023-03-08T12:58:04.110Z"
   },
   {
    "duration": 22,
    "start_time": "2023-03-08T12:58:04.627Z"
   },
   {
    "duration": 15,
    "start_time": "2023-03-08T12:58:04.651Z"
   },
   {
    "duration": 10,
    "start_time": "2023-03-08T12:58:04.668Z"
   },
   {
    "duration": 33,
    "start_time": "2023-03-08T12:58:04.679Z"
   },
   {
    "duration": 3,
    "start_time": "2023-03-08T12:58:04.714Z"
   },
   {
    "duration": 35,
    "start_time": "2023-03-08T12:58:04.719Z"
   },
   {
    "duration": 4,
    "start_time": "2023-03-08T12:58:04.756Z"
   },
   {
    "duration": 8,
    "start_time": "2023-03-08T12:58:04.762Z"
   },
   {
    "duration": 4,
    "start_time": "2023-03-08T12:58:04.773Z"
   },
   {
    "duration": 36,
    "start_time": "2023-03-08T12:58:04.779Z"
   },
   {
    "duration": 37,
    "start_time": "2023-03-08T12:58:04.816Z"
   },
   {
    "duration": 4,
    "start_time": "2023-03-08T12:58:04.855Z"
   },
   {
    "duration": 11,
    "start_time": "2023-03-08T12:58:04.860Z"
   },
   {
    "duration": 21,
    "start_time": "2023-03-08T12:58:04.873Z"
   },
   {
    "duration": 17,
    "start_time": "2023-03-08T12:58:04.895Z"
   },
   {
    "duration": 4,
    "start_time": "2023-03-08T12:58:04.913Z"
   },
   {
    "duration": 37,
    "start_time": "2023-03-08T12:58:04.918Z"
   },
   {
    "duration": 5,
    "start_time": "2023-03-08T12:58:04.957Z"
   },
   {
    "duration": 6,
    "start_time": "2023-03-08T12:58:04.964Z"
   },
   {
    "duration": 16,
    "start_time": "2023-03-08T12:58:04.972Z"
   },
   {
    "duration": 965,
    "start_time": "2023-03-08T12:58:04.990Z"
   },
   {
    "duration": 3,
    "start_time": "2023-03-08T12:58:05.958Z"
   },
   {
    "duration": 20,
    "start_time": "2023-03-08T12:58:05.963Z"
   },
   {
    "duration": 4,
    "start_time": "2023-03-08T12:58:05.985Z"
   },
   {
    "duration": 4,
    "start_time": "2023-03-08T12:58:05.991Z"
   },
   {
    "duration": 58,
    "start_time": "2023-03-08T12:58:05.996Z"
   },
   {
    "duration": 187,
    "start_time": "2023-03-08T12:58:06.058Z"
   },
   {
    "duration": 3,
    "start_time": "2023-03-08T12:58:06.253Z"
   },
   {
    "duration": 50,
    "start_time": "2023-03-08T12:58:06.258Z"
   },
   {
    "duration": 193,
    "start_time": "2023-03-08T12:58:06.310Z"
   },
   {
    "duration": 3,
    "start_time": "2023-03-08T12:58:06.505Z"
   },
   {
    "duration": 69,
    "start_time": "2023-03-08T12:58:06.510Z"
   },
   {
    "duration": 183,
    "start_time": "2023-03-08T12:58:06.581Z"
   },
   {
    "duration": 4,
    "start_time": "2023-03-08T12:58:06.766Z"
   },
   {
    "duration": 63,
    "start_time": "2023-03-08T12:58:06.772Z"
   },
   {
    "duration": 157,
    "start_time": "2023-03-08T12:58:06.836Z"
   }
  ],
  "colab": {
   "provenance": []
  },
  "kernelspec": {
   "display_name": "Python 3 (ipykernel)",
   "language": "python",
   "name": "python3"
  },
  "language_info": {
   "codemirror_mode": {
    "name": "ipython",
    "version": 3
   },
   "file_extension": ".py",
   "mimetype": "text/x-python",
   "name": "python",
   "nbconvert_exporter": "python",
   "pygments_lexer": "ipython3",
   "version": "3.9.15"
  },
  "toc": {
   "base_numbering": 1,
   "nav_menu": {
    "height": "390.996px",
    "width": "485px"
   },
   "number_sections": true,
   "sideBar": true,
   "skip_h1_title": true,
   "title_cell": "Table of Contents",
   "title_sidebar": "Contents",
   "toc_cell": false,
   "toc_position": {},
   "toc_section_display": true,
   "toc_window_display": false
  }
 },
 "nbformat": 4,
 "nbformat_minor": 5
}
